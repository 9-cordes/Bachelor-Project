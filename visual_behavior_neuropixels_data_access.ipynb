{
 "cells": [
  {
   "cell_type": "markdown",
   "id": "50af6f85",
   "metadata": {},
   "source": [
    "# Accessing Visual Behavior Neuropixels Data"
   ]
  },
  {
   "cell_type": "markdown",
   "id": "83baaafe",
   "metadata": {},
   "source": [
    "## Tutorial overview\n",
    "\n",
    "This Jupyter notebook covers the various methods for accessing the Allen Institute Visual Behavior Neuropixels dataset. We will go over how to request data, where it's stored, and what the various files contain. If you're having trouble downloading the data, or you just want to know more about what's going on under the hood, this is a good place to start.\n",
    "\n",
    "This data release will not have a web interface for browsing through the released data, as with the [two-photon imaging Visual Coding dataset](http://observatory.brain-map.org/visualcoding). Instead, the data must be retrieved through the AllenSDK (Python 3.6+) or via requests sent to the **Amazon Web Services (AWS)** **Simple Storage Service (S3)** bucket (name: [visual-behavior-neuropixels-data](https://s3.console.aws.amazon.com/s3/buckets/visual-behavior-neuropixels-data)) for this project.\n",
    "\n",
    "Functions related to data analysis as well as descriptions of metadata table columns will be covered in other tutorials. For a full list of available tutorials for this project, see the [SDK documentation](https://allensdk.readthedocs.io/en/latest/visual_behavior_neuropixels.html)."
   ]
  },
  {
   "cell_type": "markdown",
   "id": "53e75988",
   "metadata": {},
   "source": [
    "## Options for data access\n",
    "\n",
    "The `VisualBehaviorNeuropixelsProjectCache` object in the AllenSDK is the easiest way to interact with the released data. This object abstracts away the details of on-disk file storage, and delivers the data to you as ready-to-analyze Python objects. The cache will automatically keep track of which files are stored locally, and will download additional files on an as-needed basis. Usually you won't need to worry about the organization of these files, but this tutorial will cover those details in case you want to analyze them without using the AllenSDK (e.g., in Matlab). This tutorial begins with an introduction to this approach.\n",
    "\n",
    "Another option is to directly download the data using an S3 URL. This should be used if the other options are broken or are not available to you. Instructions for this can be found <a href='#Direct-download-of-data-from-S3'>at the end of this tutorial</a>."
   ]
  },
  {
   "cell_type": "markdown",
   "id": "75b3ae20",
   "metadata": {},
   "source": [
    "## Using the AllenSDK to retrieve data\n",
    "\n",
    "Most users will want to access data via the AllenSDK. This requires nothing more than a Python interpreter and some free disk space to store the data locally.\n",
    "\n",
    "How much data is there? If you want to download the complete dataset (153 NWB files plus 5 metadata csv files), you'll need 524 GB of space.\n",
    "\n",
    "Before downloading the data, you must decide on a cache directory where you would like downloaded data to be stored. This directory is where the `VisualBehaviorNeuropixelsProjectCache` object will look first when you request a metadata table or a data file.\n",
    "\n",
    "When you initialize a local cache for the first time, it will create the manifest file at the path that you specify. This file lives one directory up from the rest of the data, so make sure you put it somewhere that has enough space available.\n",
    "\n",
    "When you need to access the data in subsequent analysis sessions, you should point the `VisualBehaviorNeuropixelsProjectCache` object to an existing cache directory; otherwise, it will try to re-download the data in a new location.\n",
    "\n",
    "To get started with this approach, first take care of the necessary imports:\n",
    "\n",
    "We will first install allensdk into your environment by running the appropriate commands below. "
   ]
  },
  {
   "cell_type": "markdown",
   "id": "f13f8c95",
   "metadata": {},
   "source": [
    "## Install AllenSDK into your local environment"
   ]
  },
  {
   "cell_type": "markdown",
   "id": "394255fc",
   "metadata": {},
   "source": [
    "You can install AllenSDK with:"
   ]
  },
  {
   "cell_type": "code",
   "execution_count": 3,
   "id": "abd813fe",
   "metadata": {},
   "outputs": [
    {
     "name": "stdout",
     "output_type": "stream",
     "text": [
      "Requirement already satisfied: allensdk in /Users/kiracordes/opt/anaconda3/lib/python3.7/site-packages (2.13.6)\n",
      "Requirement already satisfied: matplotlib<3.4.3,>=1.4.3 in /Users/kiracordes/opt/anaconda3/lib/python3.7/site-packages (from allensdk) (3.4.2)\n",
      "Requirement already satisfied: scikit-image<0.17.0,>=0.14.0 in /Users/kiracordes/opt/anaconda3/lib/python3.7/site-packages (from allensdk) (0.16.2)\n",
      "Requirement already satisfied: cachetools<5.0.0,>=4.2.1 in /Users/kiracordes/opt/anaconda3/lib/python3.7/site-packages (from allensdk) (4.2.2)\n",
      "Requirement already satisfied: pandas>=1.1.5 in /Users/kiracordes/opt/anaconda3/lib/python3.7/site-packages (from allensdk) (1.3.5)\n",
      "Requirement already satisfied: xarray<0.16.0 in /Users/kiracordes/opt/anaconda3/lib/python3.7/site-packages (from allensdk) (0.15.1)\n",
      "Requirement already satisfied: sqlalchemy in /Users/kiracordes/opt/anaconda3/lib/python3.7/site-packages (from allensdk) (1.4.32)\n",
      "Requirement already satisfied: aiohttp==3.7.4 in /Users/kiracordes/opt/anaconda3/lib/python3.7/site-packages (from allensdk) (3.7.4)\n",
      "Requirement already satisfied: numpy in /Users/kiracordes/opt/anaconda3/lib/python3.7/site-packages (from allensdk) (1.21.5)\n",
      "Requirement already satisfied: jinja2>=3.0.0 in /Users/kiracordes/opt/anaconda3/lib/python3.7/site-packages (from allensdk) (3.1.2)\n",
      "Requirement already satisfied: simplejson<4.0.0,>=3.10.0 in /Users/kiracordes/opt/anaconda3/lib/python3.7/site-packages (from allensdk) (3.17.6)\n",
      "Requirement already satisfied: hdmf>=2.5.8 in /Users/kiracordes/opt/anaconda3/lib/python3.7/site-packages (from allensdk) (3.4.6)\n",
      "Requirement already satisfied: argschema<4.0.0,>=3.0.1 in /Users/kiracordes/opt/anaconda3/lib/python3.7/site-packages (from allensdk) (3.0.4)\n",
      "Requirement already satisfied: nest-asyncio in /Users/kiracordes/opt/anaconda3/lib/python3.7/site-packages (from allensdk) (1.5.5)\n",
      "Requirement already satisfied: pynrrd<1.0.0,>=0.2.1 in /Users/kiracordes/opt/anaconda3/lib/python3.7/site-packages (from allensdk) (0.4.3)\n",
      "Requirement already satisfied: simpleitk<3.0.0,>=2.0.2 in /Users/kiracordes/opt/anaconda3/lib/python3.7/site-packages (from allensdk) (2.2.0)\n",
      "Requirement already satisfied: h5py in /Users/kiracordes/opt/anaconda3/lib/python3.7/site-packages (from allensdk) (2.10.0)\n",
      "Requirement already satisfied: requests<3.0.0 in /Users/kiracordes/opt/anaconda3/lib/python3.7/site-packages (from allensdk) (2.27.1)\n",
      "Requirement already satisfied: semver in /Users/kiracordes/opt/anaconda3/lib/python3.7/site-packages (from allensdk) (2.13.0)\n",
      "Requirement already satisfied: six<2.0.0,>=1.9.0 in /Users/kiracordes/opt/anaconda3/lib/python3.7/site-packages (from allensdk) (1.16.0)\n",
      "Requirement already satisfied: future<1.0.0,>=0.14.3 in /Users/kiracordes/opt/anaconda3/lib/python3.7/site-packages (from allensdk) (0.18.2)\n",
      "Requirement already satisfied: ndx-events<=0.2.0 in /Users/kiracordes/opt/anaconda3/lib/python3.7/site-packages (from allensdk) (0.2.0)\n",
      "Requirement already satisfied: statsmodels<=0.13.0 in /Users/kiracordes/opt/anaconda3/lib/python3.7/site-packages (from allensdk) (0.13.0)\n",
      "Requirement already satisfied: psycopg2-binary<3.0.0,>=2.7 in /Users/kiracordes/opt/anaconda3/lib/python3.7/site-packages (from allensdk) (2.9.4)\n",
      "Requirement already satisfied: pynwb in /Users/kiracordes/opt/anaconda3/lib/python3.7/site-packages (from allensdk) (2.1.0)\n",
      "Requirement already satisfied: boto3==1.17.21 in /Users/kiracordes/opt/anaconda3/lib/python3.7/site-packages (from allensdk) (1.17.21)\n",
      "Requirement already satisfied: scipy<2.0.0,>=1.4.0 in /Users/kiracordes/opt/anaconda3/lib/python3.7/site-packages (from allensdk) (1.7.3)\n",
      "Requirement already satisfied: requests-toolbelt<1.0.0 in /Users/kiracordes/opt/anaconda3/lib/python3.7/site-packages (from allensdk) (0.10.0)\n",
      "Requirement already satisfied: tqdm>=4.27 in /Users/kiracordes/opt/anaconda3/lib/python3.7/site-packages (from allensdk) (4.64.0)\n",
      "Requirement already satisfied: tables<3.7.0,>=3.6.0 in /Users/kiracordes/opt/anaconda3/lib/python3.7/site-packages (from allensdk) (3.6.1)\n",
      "Requirement already satisfied: scikit-build<1.0.0 in /Users/kiracordes/opt/anaconda3/lib/python3.7/site-packages (from allensdk) (0.15.0)\n",
      "Requirement already satisfied: glymur==0.8.19 in /Users/kiracordes/opt/anaconda3/lib/python3.7/site-packages (from allensdk) (0.8.19)\n",
      "Requirement already satisfied: seaborn<1.0.0 in /Users/kiracordes/opt/anaconda3/lib/python3.7/site-packages (from allensdk) (0.11.2)\n",
      "Requirement already satisfied: multidict<7.0,>=4.5 in /Users/kiracordes/opt/anaconda3/lib/python3.7/site-packages (from aiohttp==3.7.4->allensdk) (5.2.0)\n",
      "Requirement already satisfied: attrs>=17.3.0 in /Users/kiracordes/opt/anaconda3/lib/python3.7/site-packages (from aiohttp==3.7.4->allensdk) (21.4.0)\n",
      "Requirement already satisfied: chardet<4.0,>=2.0 in /Users/kiracordes/opt/anaconda3/lib/python3.7/site-packages (from aiohttp==3.7.4->allensdk) (3.0.4)\n",
      "Requirement already satisfied: async-timeout<4.0,>=3.0 in /Users/kiracordes/opt/anaconda3/lib/python3.7/site-packages (from aiohttp==3.7.4->allensdk) (3.0.1)\n",
      "Requirement already satisfied: typing-extensions>=3.6.5 in /Users/kiracordes/opt/anaconda3/lib/python3.7/site-packages (from aiohttp==3.7.4->allensdk) (4.1.1)\n",
      "Requirement already satisfied: yarl<2.0,>=1.0 in /Users/kiracordes/opt/anaconda3/lib/python3.7/site-packages (from aiohttp==3.7.4->allensdk) (1.5.1)\n",
      "Requirement already satisfied: s3transfer<0.4.0,>=0.3.0 in /Users/kiracordes/opt/anaconda3/lib/python3.7/site-packages (from boto3==1.17.21->allensdk) (0.3.7)\n",
      "Requirement already satisfied: jmespath<1.0.0,>=0.7.1 in /Users/kiracordes/opt/anaconda3/lib/python3.7/site-packages (from boto3==1.17.21->allensdk) (0.10.0)\n",
      "Requirement already satisfied: botocore<1.21.0,>=1.20.21 in /Users/kiracordes/opt/anaconda3/lib/python3.7/site-packages (from boto3==1.17.21->allensdk) (1.20.112)\n",
      "Requirement already satisfied: setuptools in /Users/kiracordes/opt/anaconda3/lib/python3.7/site-packages (from glymur==0.8.19->allensdk) (61.2.0)\n",
      "Requirement already satisfied: marshmallow<4.0,>=3.0.0 in /Users/kiracordes/opt/anaconda3/lib/python3.7/site-packages (from argschema<4.0.0,>=3.0.1->allensdk) (3.18.0)\n",
      "Requirement already satisfied: pyyaml in /Users/kiracordes/opt/anaconda3/lib/python3.7/site-packages (from argschema<4.0.0,>=3.0.1->allensdk) (6.0)\n",
      "Requirement already satisfied: python-dateutil<3.0.0,>=2.1 in /Users/kiracordes/opt/anaconda3/lib/python3.7/site-packages (from botocore<1.21.0,>=1.20.21->boto3==1.17.21->allensdk) (2.8.2)\n",
      "Requirement already satisfied: urllib3<1.27,>=1.25.4 in /Users/kiracordes/opt/anaconda3/lib/python3.7/site-packages (from botocore<1.21.0,>=1.20.21->boto3==1.17.21->allensdk) (1.26.9)\n",
      "Requirement already satisfied: jsonschema<5,>=2.6.0 in /Users/kiracordes/opt/anaconda3/lib/python3.7/site-packages (from hdmf>=2.5.8->allensdk) (4.4.0)\n",
      "Requirement already satisfied: ruamel.yaml<1,>=0.16 in /Users/kiracordes/opt/anaconda3/lib/python3.7/site-packages (from hdmf>=2.5.8->allensdk) (0.17.21)\n",
      "Requirement already satisfied: MarkupSafe>=2.0 in /Users/kiracordes/opt/anaconda3/lib/python3.7/site-packages (from jinja2>=3.0.0->allensdk) (2.0.1)\n",
      "Requirement already satisfied: importlib-metadata in /Users/kiracordes/opt/anaconda3/lib/python3.7/site-packages (from jsonschema<5,>=2.6.0->hdmf>=2.5.8->allensdk) (4.11.3)\n",
      "Requirement already satisfied: pyrsistent!=0.17.0,!=0.17.1,!=0.17.2,>=0.14.0 in /Users/kiracordes/opt/anaconda3/lib/python3.7/site-packages (from jsonschema<5,>=2.6.0->hdmf>=2.5.8->allensdk) (0.18.0)\n",
      "Requirement already satisfied: importlib-resources>=1.4.0 in /Users/kiracordes/opt/anaconda3/lib/python3.7/site-packages (from jsonschema<5,>=2.6.0->hdmf>=2.5.8->allensdk) (5.2.0)\n",
      "Requirement already satisfied: zipp>=3.1.0 in /Users/kiracordes/opt/anaconda3/lib/python3.7/site-packages (from importlib-resources>=1.4.0->jsonschema<5,>=2.6.0->hdmf>=2.5.8->allensdk) (3.7.0)\n",
      "Requirement already satisfied: packaging>=17.0 in /Users/kiracordes/opt/anaconda3/lib/python3.7/site-packages (from marshmallow<4.0,>=3.0.0->argschema<4.0.0,>=3.0.1->allensdk) (21.3)\n",
      "Requirement already satisfied: cycler>=0.10 in /Users/kiracordes/opt/anaconda3/lib/python3.7/site-packages (from matplotlib<3.4.3,>=1.4.3->allensdk) (0.11.0)\n",
      "Requirement already satisfied: pillow>=6.2.0 in /Users/kiracordes/opt/anaconda3/lib/python3.7/site-packages (from matplotlib<3.4.3,>=1.4.3->allensdk) (9.0.1)\n",
      "Requirement already satisfied: kiwisolver>=1.0.1 in /Users/kiracordes/opt/anaconda3/lib/python3.7/site-packages (from matplotlib<3.4.3,>=1.4.3->allensdk) (1.3.2)\n",
      "Requirement already satisfied: pyparsing>=2.2.1 in /Users/kiracordes/opt/anaconda3/lib/python3.7/site-packages (from matplotlib<3.4.3,>=1.4.3->allensdk) (3.0.4)\n"
     ]
    },
    {
     "name": "stdout",
     "output_type": "stream",
     "text": [
      "Requirement already satisfied: pytz>=2017.3 in /Users/kiracordes/opt/anaconda3/lib/python3.7/site-packages (from pandas>=1.1.5->allensdk) (2021.3)\n",
      "Requirement already satisfied: certifi>=2017.4.17 in /Users/kiracordes/opt/anaconda3/lib/python3.7/site-packages (from requests<3.0.0->allensdk) (2021.10.8)\n",
      "Requirement already satisfied: idna<4,>=2.5 in /Users/kiracordes/opt/anaconda3/lib/python3.7/site-packages (from requests<3.0.0->allensdk) (3.3)\n",
      "Requirement already satisfied: charset-normalizer~=2.0.0 in /Users/kiracordes/opt/anaconda3/lib/python3.7/site-packages (from requests<3.0.0->allensdk) (2.0.4)\n",
      "Requirement already satisfied: ruamel.yaml.clib>=0.2.6 in /Users/kiracordes/opt/anaconda3/lib/python3.7/site-packages (from ruamel.yaml<1,>=0.16->hdmf>=2.5.8->allensdk) (0.2.6)\n",
      "Requirement already satisfied: distro in /Users/kiracordes/opt/anaconda3/lib/python3.7/site-packages (from scikit-build<1.0.0->allensdk) (1.8.0)\n",
      "Requirement already satisfied: wheel>=0.29.0 in /Users/kiracordes/opt/anaconda3/lib/python3.7/site-packages (from scikit-build<1.0.0->allensdk) (0.37.1)\n",
      "Requirement already satisfied: PyWavelets>=0.4.0 in /Users/kiracordes/opt/anaconda3/lib/python3.7/site-packages (from scikit-image<0.17.0,>=0.14.0->allensdk) (1.3.0)\n",
      "Requirement already satisfied: networkx>=2.0 in /Users/kiracordes/opt/anaconda3/lib/python3.7/site-packages (from scikit-image<0.17.0,>=0.14.0->allensdk) (2.6.3)\n",
      "Requirement already satisfied: imageio>=2.3.0 in /Users/kiracordes/opt/anaconda3/lib/python3.7/site-packages (from scikit-image<0.17.0,>=0.14.0->allensdk) (2.9.0)\n",
      "Requirement already satisfied: patsy>=0.5.2 in /Users/kiracordes/opt/anaconda3/lib/python3.7/site-packages (from statsmodels<=0.13.0->allensdk) (0.5.2)\n",
      "Requirement already satisfied: numexpr>=2.6.2 in /Users/kiracordes/opt/anaconda3/lib/python3.7/site-packages (from tables<3.7.0,>=3.6.0->allensdk) (2.8.1)\n",
      "Requirement already satisfied: greenlet!=0.4.17 in /Users/kiracordes/opt/anaconda3/lib/python3.7/site-packages (from sqlalchemy->allensdk) (1.1.1)\n",
      "Note: you may need to restart the kernel to use updated packages.\n"
     ]
    }
   ],
   "source": [
    "pip install allensdk"
   ]
  },
  {
   "cell_type": "markdown",
   "id": "e2021a8e",
   "metadata": {},
   "source": [
    "## Install AllenSDK into your notebook environment (good for Google Colab)"
   ]
  },
  {
   "cell_type": "markdown",
   "id": "9765633d",
   "metadata": {},
   "source": [
    "You can install AllenSDK into your notebook environment by executing the cell below.\n",
    "\n",
    "If using Google Colab, click on the RESTART RUNTIME button that appears at the end of the output when this cell is complete,. Note that running this cell will produce a long list of outputs and some error messages. Clicking RESTART RUNTIME at the end will resolve these issues.\n",
    "You can minimize the cell after you are done to hide the output."
   ]
  },
  {
   "cell_type": "code",
   "execution_count": 4,
   "id": "18345f53",
   "metadata": {},
   "outputs": [
    {
     "name": "stdout",
     "output_type": "stream",
     "text": [
      "Requirement already satisfied: pip in /Users/kiracordes/opt/anaconda3/lib/python3.7/site-packages (21.2.2)\n",
      "Collecting pip\n",
      "  Downloading pip-22.3-py3-none-any.whl (2.1 MB)\n",
      "\u001b[K     |████████████████████████████████| 2.1 MB 1.9 MB/s eta 0:00:01\n",
      "\u001b[?25hInstalling collected packages: pip\n",
      "  Attempting uninstall: pip\n",
      "    Found existing installation: pip 21.2.2\n",
      "    Uninstalling pip-21.2.2:\n",
      "      Successfully uninstalled pip-21.2.2\n",
      "Successfully installed pip-22.3\n",
      "Requirement already satisfied: allensdk in /Users/kiracordes/opt/anaconda3/lib/python3.7/site-packages (2.13.6)\n",
      "Requirement already satisfied: numpy in /Users/kiracordes/opt/anaconda3/lib/python3.7/site-packages (from allensdk) (1.21.5)\n",
      "Requirement already satisfied: statsmodels<=0.13.0 in /Users/kiracordes/opt/anaconda3/lib/python3.7/site-packages (from allensdk) (0.13.0)\n",
      "Requirement already satisfied: six<2.0.0,>=1.9.0 in /Users/kiracordes/opt/anaconda3/lib/python3.7/site-packages (from allensdk) (1.16.0)\n",
      "Requirement already satisfied: scikit-build<1.0.0 in /Users/kiracordes/opt/anaconda3/lib/python3.7/site-packages (from allensdk) (0.15.0)\n",
      "Requirement already satisfied: future<1.0.0,>=0.14.3 in /Users/kiracordes/opt/anaconda3/lib/python3.7/site-packages (from allensdk) (0.18.2)\n",
      "Requirement already satisfied: requests-toolbelt<1.0.0 in /Users/kiracordes/opt/anaconda3/lib/python3.7/site-packages (from allensdk) (0.10.0)\n",
      "Requirement already satisfied: requests<3.0.0 in /Users/kiracordes/opt/anaconda3/lib/python3.7/site-packages (from allensdk) (2.27.1)\n",
      "Requirement already satisfied: aiohttp==3.7.4 in /Users/kiracordes/opt/anaconda3/lib/python3.7/site-packages (from allensdk) (3.7.4)\n",
      "Requirement already satisfied: tqdm>=4.27 in /Users/kiracordes/opt/anaconda3/lib/python3.7/site-packages (from allensdk) (4.64.0)\n",
      "Requirement already satisfied: scikit-image<0.17.0,>=0.14.0 in /Users/kiracordes/opt/anaconda3/lib/python3.7/site-packages (from allensdk) (0.16.2)\n",
      "Requirement already satisfied: jinja2>=3.0.0 in /Users/kiracordes/opt/anaconda3/lib/python3.7/site-packages (from allensdk) (3.1.2)\n",
      "Requirement already satisfied: matplotlib<3.4.3,>=1.4.3 in /Users/kiracordes/opt/anaconda3/lib/python3.7/site-packages (from allensdk) (3.4.2)\n",
      "Requirement already satisfied: pynrrd<1.0.0,>=0.2.1 in /Users/kiracordes/opt/anaconda3/lib/python3.7/site-packages (from allensdk) (0.4.3)\n",
      "Requirement already satisfied: simpleitk<3.0.0,>=2.0.2 in /Users/kiracordes/opt/anaconda3/lib/python3.7/site-packages (from allensdk) (2.2.0)\n",
      "Requirement already satisfied: pynwb in /Users/kiracordes/opt/anaconda3/lib/python3.7/site-packages (from allensdk) (2.1.0)\n",
      "Requirement already satisfied: nest-asyncio in /Users/kiracordes/opt/anaconda3/lib/python3.7/site-packages (from allensdk) (1.5.5)\n",
      "Requirement already satisfied: simplejson<4.0.0,>=3.10.0 in /Users/kiracordes/opt/anaconda3/lib/python3.7/site-packages (from allensdk) (3.17.6)\n",
      "Requirement already satisfied: xarray<0.16.0 in /Users/kiracordes/opt/anaconda3/lib/python3.7/site-packages (from allensdk) (0.15.1)\n",
      "Requirement already satisfied: cachetools<5.0.0,>=4.2.1 in /Users/kiracordes/opt/anaconda3/lib/python3.7/site-packages (from allensdk) (4.2.2)\n",
      "Requirement already satisfied: ndx-events<=0.2.0 in /Users/kiracordes/opt/anaconda3/lib/python3.7/site-packages (from allensdk) (0.2.0)\n",
      "Requirement already satisfied: argschema<4.0.0,>=3.0.1 in /Users/kiracordes/opt/anaconda3/lib/python3.7/site-packages (from allensdk) (3.0.4)\n",
      "Requirement already satisfied: boto3==1.17.21 in /Users/kiracordes/opt/anaconda3/lib/python3.7/site-packages (from allensdk) (1.17.21)\n",
      "Requirement already satisfied: seaborn<1.0.0 in /Users/kiracordes/opt/anaconda3/lib/python3.7/site-packages (from allensdk) (0.11.2)\n",
      "Requirement already satisfied: pandas>=1.1.5 in /Users/kiracordes/opt/anaconda3/lib/python3.7/site-packages (from allensdk) (1.3.5)\n",
      "Requirement already satisfied: scipy<2.0.0,>=1.4.0 in /Users/kiracordes/opt/anaconda3/lib/python3.7/site-packages (from allensdk) (1.7.3)\n",
      "Requirement already satisfied: tables<3.7.0,>=3.6.0 in /Users/kiracordes/opt/anaconda3/lib/python3.7/site-packages (from allensdk) (3.6.1)\n",
      "Requirement already satisfied: semver in /Users/kiracordes/opt/anaconda3/lib/python3.7/site-packages (from allensdk) (2.13.0)\n",
      "Requirement already satisfied: sqlalchemy in /Users/kiracordes/opt/anaconda3/lib/python3.7/site-packages (from allensdk) (1.4.32)\n",
      "Requirement already satisfied: psycopg2-binary<3.0.0,>=2.7 in /Users/kiracordes/opt/anaconda3/lib/python3.7/site-packages (from allensdk) (2.9.4)\n",
      "Requirement already satisfied: hdmf>=2.5.8 in /Users/kiracordes/opt/anaconda3/lib/python3.7/site-packages (from allensdk) (3.4.6)\n",
      "Requirement already satisfied: h5py in /Users/kiracordes/opt/anaconda3/lib/python3.7/site-packages (from allensdk) (2.10.0)\n",
      "Requirement already satisfied: glymur==0.8.19 in /Users/kiracordes/opt/anaconda3/lib/python3.7/site-packages (from allensdk) (0.8.19)\n",
      "Requirement already satisfied: typing-extensions>=3.6.5 in /Users/kiracordes/opt/anaconda3/lib/python3.7/site-packages (from aiohttp==3.7.4->allensdk) (4.1.1)\n",
      "Requirement already satisfied: attrs>=17.3.0 in /Users/kiracordes/opt/anaconda3/lib/python3.7/site-packages (from aiohttp==3.7.4->allensdk) (21.4.0)\n",
      "Requirement already satisfied: yarl<2.0,>=1.0 in /Users/kiracordes/opt/anaconda3/lib/python3.7/site-packages (from aiohttp==3.7.4->allensdk) (1.5.1)\n",
      "Requirement already satisfied: multidict<7.0,>=4.5 in /Users/kiracordes/opt/anaconda3/lib/python3.7/site-packages (from aiohttp==3.7.4->allensdk) (5.2.0)\n",
      "Requirement already satisfied: async-timeout<4.0,>=3.0 in /Users/kiracordes/opt/anaconda3/lib/python3.7/site-packages (from aiohttp==3.7.4->allensdk) (3.0.1)\n",
      "Requirement already satisfied: chardet<4.0,>=2.0 in /Users/kiracordes/opt/anaconda3/lib/python3.7/site-packages (from aiohttp==3.7.4->allensdk) (3.0.4)\n",
      "Requirement already satisfied: jmespath<1.0.0,>=0.7.1 in /Users/kiracordes/opt/anaconda3/lib/python3.7/site-packages (from boto3==1.17.21->allensdk) (0.10.0)\n",
      "Requirement already satisfied: botocore<1.21.0,>=1.20.21 in /Users/kiracordes/opt/anaconda3/lib/python3.7/site-packages (from boto3==1.17.21->allensdk) (1.20.112)\n",
      "Requirement already satisfied: s3transfer<0.4.0,>=0.3.0 in /Users/kiracordes/opt/anaconda3/lib/python3.7/site-packages (from boto3==1.17.21->allensdk) (0.3.7)\n",
      "Requirement already satisfied: setuptools in /Users/kiracordes/opt/anaconda3/lib/python3.7/site-packages (from glymur==0.8.19->allensdk) (61.2.0)\n",
      "Requirement already satisfied: pyyaml in /Users/kiracordes/opt/anaconda3/lib/python3.7/site-packages (from argschema<4.0.0,>=3.0.1->allensdk) (6.0)\n",
      "Requirement already satisfied: marshmallow<4.0,>=3.0.0 in /Users/kiracordes/opt/anaconda3/lib/python3.7/site-packages (from argschema<4.0.0,>=3.0.1->allensdk) (3.18.0)\n",
      "Requirement already satisfied: jsonschema<5,>=2.6.0 in /Users/kiracordes/opt/anaconda3/lib/python3.7/site-packages (from hdmf>=2.5.8->allensdk) (4.4.0)\n",
      "Requirement already satisfied: ruamel.yaml<1,>=0.16 in /Users/kiracordes/opt/anaconda3/lib/python3.7/site-packages (from hdmf>=2.5.8->allensdk) (0.17.21)\n",
      "Requirement already satisfied: MarkupSafe>=2.0 in /Users/kiracordes/opt/anaconda3/lib/python3.7/site-packages (from jinja2>=3.0.0->allensdk) (2.0.1)\n",
      "Requirement already satisfied: pillow>=6.2.0 in /Users/kiracordes/opt/anaconda3/lib/python3.7/site-packages (from matplotlib<3.4.3,>=1.4.3->allensdk) (9.0.1)\n",
      "Requirement already satisfied: cycler>=0.10 in /Users/kiracordes/opt/anaconda3/lib/python3.7/site-packages (from matplotlib<3.4.3,>=1.4.3->allensdk) (0.11.0)\n",
      "Requirement already satisfied: kiwisolver>=1.0.1 in /Users/kiracordes/opt/anaconda3/lib/python3.7/site-packages (from matplotlib<3.4.3,>=1.4.3->allensdk) (1.3.2)\n",
      "Requirement already satisfied: python-dateutil>=2.7 in /Users/kiracordes/opt/anaconda3/lib/python3.7/site-packages (from matplotlib<3.4.3,>=1.4.3->allensdk) (2.8.2)\n",
      "Requirement already satisfied: pyparsing>=2.2.1 in /Users/kiracordes/opt/anaconda3/lib/python3.7/site-packages (from matplotlib<3.4.3,>=1.4.3->allensdk) (3.0.4)\n",
      "Requirement already satisfied: pytz>=2017.3 in /Users/kiracordes/opt/anaconda3/lib/python3.7/site-packages (from pandas>=1.1.5->allensdk) (2021.3)\n",
      "Requirement already satisfied: urllib3<1.27,>=1.21.1 in /Users/kiracordes/opt/anaconda3/lib/python3.7/site-packages (from requests<3.0.0->allensdk) (1.26.9)\n",
      "Requirement already satisfied: idna<4,>=2.5 in /Users/kiracordes/opt/anaconda3/lib/python3.7/site-packages (from requests<3.0.0->allensdk) (3.3)\n",
      "Requirement already satisfied: certifi>=2017.4.17 in /Users/kiracordes/opt/anaconda3/lib/python3.7/site-packages (from requests<3.0.0->allensdk) (2021.10.8)\n",
      "Requirement already satisfied: charset-normalizer~=2.0.0 in /Users/kiracordes/opt/anaconda3/lib/python3.7/site-packages (from requests<3.0.0->allensdk) (2.0.4)\n",
      "Requirement already satisfied: wheel>=0.29.0 in /Users/kiracordes/opt/anaconda3/lib/python3.7/site-packages (from scikit-build<1.0.0->allensdk) (0.37.1)\n",
      "Requirement already satisfied: distro in /Users/kiracordes/opt/anaconda3/lib/python3.7/site-packages (from scikit-build<1.0.0->allensdk) (1.8.0)\n",
      "Requirement already satisfied: packaging in /Users/kiracordes/opt/anaconda3/lib/python3.7/site-packages (from scikit-build<1.0.0->allensdk) (21.3)\n",
      "Requirement already satisfied: PyWavelets>=0.4.0 in /Users/kiracordes/opt/anaconda3/lib/python3.7/site-packages (from scikit-image<0.17.0,>=0.14.0->allensdk) (1.3.0)\n",
      "Requirement already satisfied: imageio>=2.3.0 in /Users/kiracordes/opt/anaconda3/lib/python3.7/site-packages (from scikit-image<0.17.0,>=0.14.0->allensdk) (2.9.0)\n",
      "Requirement already satisfied: networkx>=2.0 in /Users/kiracordes/opt/anaconda3/lib/python3.7/site-packages (from scikit-image<0.17.0,>=0.14.0->allensdk) (2.6.3)\n"
     ]
    },
    {
     "name": "stdout",
     "output_type": "stream",
     "text": [
      "Requirement already satisfied: patsy>=0.5.2 in /Users/kiracordes/opt/anaconda3/lib/python3.7/site-packages (from statsmodels<=0.13.0->allensdk) (0.5.2)\n",
      "Requirement already satisfied: numexpr>=2.6.2 in /Users/kiracordes/opt/anaconda3/lib/python3.7/site-packages (from tables<3.7.0,>=3.6.0->allensdk) (2.8.1)\n",
      "Requirement already satisfied: importlib-metadata in /Users/kiracordes/opt/anaconda3/lib/python3.7/site-packages (from sqlalchemy->allensdk) (4.11.3)\n",
      "Requirement already satisfied: greenlet!=0.4.17 in /Users/kiracordes/opt/anaconda3/lib/python3.7/site-packages (from sqlalchemy->allensdk) (1.1.1)\n",
      "Requirement already satisfied: importlib-resources>=1.4.0 in /Users/kiracordes/opt/anaconda3/lib/python3.7/site-packages (from jsonschema<5,>=2.6.0->hdmf>=2.5.8->allensdk) (5.2.0)\n",
      "Requirement already satisfied: pyrsistent!=0.17.0,!=0.17.1,!=0.17.2,>=0.14.0 in /Users/kiracordes/opt/anaconda3/lib/python3.7/site-packages (from jsonschema<5,>=2.6.0->hdmf>=2.5.8->allensdk) (0.18.0)\n",
      "Requirement already satisfied: ruamel.yaml.clib>=0.2.6 in /Users/kiracordes/opt/anaconda3/lib/python3.7/site-packages (from ruamel.yaml<1,>=0.16->hdmf>=2.5.8->allensdk) (0.2.6)\n",
      "Requirement already satisfied: zipp>=0.5 in /Users/kiracordes/opt/anaconda3/lib/python3.7/site-packages (from importlib-metadata->sqlalchemy->allensdk) (3.7.0)\n"
     ]
    }
   ],
   "source": [
    "!pip install --upgrade pip\n",
    "!pip install allensdk"
   ]
  },
  {
   "cell_type": "markdown",
   "id": "f0592bb2",
   "metadata": {},
   "source": [
    "## Import required packages"
   ]
  },
  {
   "cell_type": "code",
   "execution_count": 5,
   "id": "9d2f1f6d",
   "metadata": {},
   "outputs": [
    {
     "name": "stdout",
     "output_type": "stream",
     "text": [
      "Your allensdk version is: 2.13.6\n"
     ]
    }
   ],
   "source": [
    "from pathlib import Path\n",
    "import matplotlib.pyplot as plt\n",
    "\n",
    "import allensdk\n",
    "from allensdk.brain_observatory.behavior.behavior_project_cache import VisualBehaviorNeuropixelsProjectCache\n",
    "\n",
    "# Confirming your allensdk version\n",
    "print(f\"Your allensdk version is: {allensdk.__version__}\")"
   ]
  },
  {
   "cell_type": "markdown",
   "id": "6e268380",
   "metadata": {},
   "source": [
    "Next, we'll specify the directory where you'd like downloaded data to be stored (cache_dir). Remember to choose a location that has plenty of free space available."
   ]
  },
  {
   "cell_type": "code",
   "execution_count": 6,
   "id": "ca3f1f01",
   "metadata": {},
   "outputs": [],
   "source": [
    "# Update this to a valid directory in your filesystem. This is where the data will be stored.\n",
    "data_storage_directory = Path(\"/Users/kiracordes/allenSDK/VBNcache\")\n",
    "\n",
    "cache = VisualBehaviorNeuropixelsProjectCache.from_s3_cache(cache_dir=data_storage_directory)"
   ]
  },
  {
   "cell_type": "markdown",
   "id": "4fed1ef9",
   "metadata": {},
   "source": [
    "Instantiating the cache will have it to download 5 project metadata files:\n",
    "\n",
    "1. `ecephys_sessions.csv` (64 kB)\n",
    "2. `behavior_sessions.csv` (531 kB)\n",
    "3. `units.csv` (130 MB)\n",
    "4. `probes.csv` (127 kB)\n",
    "5. `channels.csv` (28 MB)\n",
    "\n",
    "Each one contains a table of information related to its file name. If you're using the AllenSDK, you won't have to worry about how these files are formatted. Instead, you'll load the relevant data using specific accessor method: `get_ecephys_session_table()`, `get_behavior_session_table()`, `get_probe_table()`, `get_unit_table()` and `get_channel_table()`. These functions return a pandas DataFrame containing a row for each item and a column for each metric.\n",
    "\n",
    "If you are analyzing data without using the AllenSDK, you can load the data using your CSV file reader of choice. However, please be aware the columns in the original file do not necessarily match what's returned by the AllenSDK, which may combine information from multiple files to produce the final DataFrame."
   ]
  },
  {
   "cell_type": "markdown",
   "id": "7f96ddc9",
   "metadata": {},
   "source": [
    "### Managing versions of the dataset\n",
    "\n",
    "Over time, updates may be made to the released dataset. These updates will result in new versions of the dataset being available in the S3 bucket. The versions of the dataset are managed through distinct data manifests stored on S3.\n",
    "\n",
    "**Note:** Some of the cells below may seem a little pointless at first, since there is only one version of the data release as of this writing (June 7, 2022). We are leaving them here for reference so that future users know how to navigate different versions of the data release as they are issued."
   ]
  },
  {
   "cell_type": "markdown",
   "id": "b5b340e3",
   "metadata": {},
   "source": [
    "#### Discovering manifests\n",
    "\n",
    "To see all of the manifest files available for this dataset online, run"
   ]
  },
  {
   "cell_type": "code",
   "execution_count": 7,
   "id": "41cd25c1",
   "metadata": {},
   "outputs": [
    {
     "data": {
      "text/plain": [
       "['visual-behavior-neuropixels_project_manifest_v0.1.0.json',\n",
       " 'visual-behavior-neuropixels_project_manifest_v0.2.0.json',\n",
       " 'visual-behavior-neuropixels_project_manifest_v0.3.0.json']"
      ]
     },
     "execution_count": 7,
     "metadata": {},
     "output_type": "execute_result"
    }
   ],
   "source": [
    "cache.list_manifest_file_names()"
   ]
  },
  {
   "cell_type": "markdown",
   "id": "37824cce",
   "metadata": {},
   "source": [
    "To see the most up-to-date available manifest, run"
   ]
  },
  {
   "cell_type": "code",
   "execution_count": 8,
   "id": "4538c01a",
   "metadata": {},
   "outputs": [
    {
     "data": {
      "text/plain": [
       "'visual-behavior-neuropixels_project_manifest_v0.3.0.json'"
      ]
     },
     "execution_count": 8,
     "metadata": {},
     "output_type": "execute_result"
    }
   ],
   "source": [
    "cache.latest_manifest_file()"
   ]
  },
  {
   "cell_type": "markdown",
   "id": "c6803645",
   "metadata": {},
   "source": [
    "To see the name of the most up-to-date manifest that you have already downloaded to your system run (note: this just means that the manifest file has been downloaded; it does not necessarily mean that any data has been downloaded)"
   ]
  },
  {
   "cell_type": "code",
   "execution_count": 9,
   "id": "0a846392",
   "metadata": {},
   "outputs": [
    {
     "data": {
      "text/plain": [
       "'visual-behavior-neuropixels_project_manifest_v0.3.0.json'"
      ]
     },
     "execution_count": 9,
     "metadata": {},
     "output_type": "execute_result"
    }
   ],
   "source": [
    "cache.latest_downloaded_manifest_file()"
   ]
  },
  {
   "cell_type": "markdown",
   "id": "7a2a8b2e",
   "metadata": {},
   "source": [
    "You can list all of the manifest files currently downloaded to your system with"
   ]
  },
  {
   "cell_type": "code",
   "execution_count": 10,
   "id": "0a6053d8",
   "metadata": {},
   "outputs": [
    {
     "data": {
      "text/plain": [
       "['visual-behavior-neuropixels_project_manifest_v0.1.0.json',\n",
       " 'visual-behavior-neuropixels_project_manifest_v0.2.0.json',\n",
       " 'visual-behavior-neuropixels_project_manifest_v0.3.0.json']"
      ]
     },
     "execution_count": 10,
     "metadata": {},
     "output_type": "execute_result"
    }
   ],
   "source": [
    "cache.list_all_downloaded_manifests()"
   ]
  },
  {
   "cell_type": "markdown",
   "id": "08ea42d5",
   "metadata": {},
   "source": [
    "#### Loading manifests/dataset versions\n",
    "\n",
    "The `VisualBehaviorNeuropixelsProjectCache` determines which version of the dataset to use by loading one of these manifests. By default, the `VisualBehaviorNeuropixelsProjectCache` loads either\n",
    "\n",
    "- the most up-to-date available data manifest, if you are instaniating it on an empty `cache_dir`\n",
    "\n",
    "- the data manifest you were last using, if you are instantiating it on a pre-existing `cache_dir` (in this case, the `VisualBehaviorNeuropixelsProjectCache` will emit a warning if a more up-to-data data manifest exists online letting you know that you can, if you choose, move to the more up-to-date data manifest)\n",
    "\n",
    "To see the manifest that you currently have loaded, run"
   ]
  },
  {
   "cell_type": "code",
   "execution_count": 11,
   "id": "88d47216",
   "metadata": {},
   "outputs": [
    {
     "data": {
      "text/plain": [
       "'visual-behavior-neuropixels_project_manifest_v0.3.0.json'"
      ]
     },
     "execution_count": 11,
     "metadata": {},
     "output_type": "execute_result"
    }
   ],
   "source": [
    "cache.current_manifest()"
   ]
  },
  {
   "cell_type": "markdown",
   "id": "5cc21ace",
   "metadata": {},
   "source": [
    "To load a particular data manifest by hand, run (note: because we are intentionally loading an out-of-date manifest, this will emit a warning alerting us to the existence of the most up-to-date manifest)"
   ]
  },
  {
   "cell_type": "code",
   "execution_count": 12,
   "id": "560f4751",
   "metadata": {},
   "outputs": [
    {
     "name": "stderr",
     "output_type": "stream",
     "text": [
      "/Users/kiracordes/opt/anaconda3/lib/python3.7/site-packages/allensdk/api/cloud_cache/cloud_cache.py:466: OutdatedManifestWarning: \n",
      "\n",
      "The manifest file you are loading is not the most up to date manifest file available for this dataset. The most up to data manifest file available for this dataset is \n",
      "\n",
      "visual-behavior-neuropixels_project_manifest_v0.3.0.json\n",
      "\n",
      "To see the differences between these manifests,run\n",
      "\n",
      "VisualBehaviorNeuropixelsProjectCache.compare_manifests('visual-behavior-neuropixels_project_manifest_v0.2.0.json', 'visual-behavior-neuropixels_project_manifest_v0.3.0.json')\n",
      "\n",
      "To see all of the manifest files currently downloaded onto your local system, run\n",
      "\n",
      "self.list_all_downloaded_manifests()\n",
      "\n",
      "If you just want to load the latest manifest, run\n",
      "\n",
      "self.load_latest_manifest()\n",
      "\n",
      "\n",
      "  warnings.warn(msg, OutdatedManifestWarning)\n"
     ]
    }
   ],
   "source": [
    "cache.load_manifest('visual-behavior-neuropixels_project_manifest_v0.2.0.json')"
   ]
  },
  {
   "cell_type": "code",
   "execution_count": 13,
   "id": "6271893c",
   "metadata": {},
   "outputs": [
    {
     "data": {
      "text/plain": [
       "'visual-behavior-neuropixels_project_manifest_v0.2.0.json'"
      ]
     },
     "execution_count": 13,
     "metadata": {},
     "output_type": "execute_result"
    }
   ],
   "source": [
    "cache.current_manifest()"
   ]
  },
  {
   "cell_type": "markdown",
   "id": "81a1578f",
   "metadata": {},
   "source": [
    "As the earlier warning informed us, we can see the difference between an two versions of the dataset by running"
   ]
  },
  {
   "cell_type": "code",
   "execution_count": 14,
   "id": "66cb1f37",
   "metadata": {},
   "outputs": [
    {
     "name": "stdout",
     "output_type": "stream",
     "text": [
      "Changes going from\n",
      "visual-behavior-neuropixels_project_manifest_v0.1.0.json\n",
      "to\n",
      "visual-behavior-neuropixels_project_manifest_v0.2.0.json\n",
      "\n",
      "project_metadata/units.csv changed\n",
      "\n"
     ]
    }
   ],
   "source": [
    "# This cell will not be useful until an updated version of the data release is issued\n",
    "\n",
    "msg = cache.compare_manifests('visual-behavior-neuropixels_project_manifest_v0.1.0.json',\n",
    "                              'visual-behavior-neuropixels_project_manifest_v0.2.0.json')\n",
    "print(msg)"
   ]
  },
  {
   "cell_type": "markdown",
   "id": "3a3f4c95",
   "metadata": {},
   "source": [
    "The `VisualBehaviorNeuropixelsProjectCache` is smart enough to know that, if a file has not changed between version `A` and version `B` of the dataset, and you have already downloaded the file while version `A` of the manifest was loaded, when you move to version `B`, it does not need to download the data again. It will simply construct a symlink where version `B` of the data should exist on your system, pointing to version `A` of the file."
   ]
  },
  {
   "cell_type": "markdown",
   "id": "755f8802",
   "metadata": {},
   "source": [
    "### Using the AllenSDK to access Visual Behavior Neuropixels metadata"
   ]
  },
  {
   "cell_type": "markdown",
   "id": "8076f8d9",
   "metadata": {},
   "source": [
    "#### Ecephys sessions table\n",
    "\n",
    "Let's look at the contents of `ecephys_sessions.csv`:"
   ]
  },
  {
   "cell_type": "code",
   "execution_count": 15,
   "id": "663a4a46",
   "metadata": {},
   "outputs": [
    {
     "name": "stdout",
     "output_type": "stream",
     "text": [
      "Total number of ecephys sessions: 103\n"
     ]
    },
    {
     "data": {
      "text/html": [
       "<div>\n",
       "<style scoped>\n",
       "    .dataframe tbody tr th:only-of-type {\n",
       "        vertical-align: middle;\n",
       "    }\n",
       "\n",
       "    .dataframe tbody tr th {\n",
       "        vertical-align: top;\n",
       "    }\n",
       "\n",
       "    .dataframe thead th {\n",
       "        text-align: right;\n",
       "    }\n",
       "</style>\n",
       "<table border=\"1\" class=\"dataframe\">\n",
       "  <thead>\n",
       "    <tr style=\"text-align: right;\">\n",
       "      <th></th>\n",
       "      <th>behavior_session_id</th>\n",
       "      <th>date_of_acquisition</th>\n",
       "      <th>equipment_name</th>\n",
       "      <th>session_type</th>\n",
       "      <th>mouse_id</th>\n",
       "      <th>genotype</th>\n",
       "      <th>sex</th>\n",
       "      <th>project_code</th>\n",
       "      <th>age_in_days</th>\n",
       "      <th>unit_count</th>\n",
       "      <th>...</th>\n",
       "      <th>channel_count</th>\n",
       "      <th>structure_acronyms</th>\n",
       "      <th>image_set</th>\n",
       "      <th>prior_exposures_to_image_set</th>\n",
       "      <th>session_number</th>\n",
       "      <th>experience_level</th>\n",
       "      <th>prior_exposures_to_omissions</th>\n",
       "      <th>file_id</th>\n",
       "      <th>abnormal_histology</th>\n",
       "      <th>abnormal_activity</th>\n",
       "    </tr>\n",
       "    <tr>\n",
       "      <th>ecephys_session_id</th>\n",
       "      <th></th>\n",
       "      <th></th>\n",
       "      <th></th>\n",
       "      <th></th>\n",
       "      <th></th>\n",
       "      <th></th>\n",
       "      <th></th>\n",
       "      <th></th>\n",
       "      <th></th>\n",
       "      <th></th>\n",
       "      <th></th>\n",
       "      <th></th>\n",
       "      <th></th>\n",
       "      <th></th>\n",
       "      <th></th>\n",
       "      <th></th>\n",
       "      <th></th>\n",
       "      <th></th>\n",
       "      <th></th>\n",
       "      <th></th>\n",
       "      <th></th>\n",
       "    </tr>\n",
       "  </thead>\n",
       "  <tbody>\n",
       "    <tr>\n",
       "      <th>1052342277</th>\n",
       "      <td>1052374521</td>\n",
       "      <td>2020-09-23 15:34:18.179</td>\n",
       "      <td>NP.1</td>\n",
       "      <td>EPHYS_1_images_G_3uL_reward</td>\n",
       "      <td>530862</td>\n",
       "      <td>Vip-IRES-Cre/wt;Ai32(RCL-ChR2(H134R)_EYFP)/wt</td>\n",
       "      <td>M</td>\n",
       "      <td>NeuropixelVisualBehavior</td>\n",
       "      <td>148</td>\n",
       "      <td>1696.0</td>\n",
       "      <td>...</td>\n",
       "      <td>2304.0</td>\n",
       "      <td>['APN', 'CA1', 'CA3', 'DG-mo', 'DG-po', 'DG-sg...</td>\n",
       "      <td>G</td>\n",
       "      <td>32.0</td>\n",
       "      <td>1</td>\n",
       "      <td>Familiar</td>\n",
       "      <td>0.0</td>\n",
       "      <td>0</td>\n",
       "      <td>NaN</td>\n",
       "      <td>NaN</td>\n",
       "    </tr>\n",
       "    <tr>\n",
       "      <th>1051155866</th>\n",
       "      <td>1052162536</td>\n",
       "      <td>2020-09-17 15:05:39.665</td>\n",
       "      <td>NP.1</td>\n",
       "      <td>EPHYS_1_images_H_3uL_reward</td>\n",
       "      <td>524760</td>\n",
       "      <td>wt/wt</td>\n",
       "      <td>F</td>\n",
       "      <td>NeuropixelVisualBehavior</td>\n",
       "      <td>180</td>\n",
       "      <td>1922.0</td>\n",
       "      <td>...</td>\n",
       "      <td>2304.0</td>\n",
       "      <td>['APN', 'CA1', 'CA3', 'DG-mo', 'DG-po', 'DG-sg...</td>\n",
       "      <td>H</td>\n",
       "      <td>0.0</td>\n",
       "      <td>2</td>\n",
       "      <td>Novel</td>\n",
       "      <td>1.0</td>\n",
       "      <td>1</td>\n",
       "      <td>NaN</td>\n",
       "      <td>NaN</td>\n",
       "    </tr>\n",
       "    <tr>\n",
       "      <th>1052533639</th>\n",
       "      <td>1052572359</td>\n",
       "      <td>2020-09-24 15:12:13.229</td>\n",
       "      <td>NP.1</td>\n",
       "      <td>EPHYS_1_images_H_3uL_reward</td>\n",
       "      <td>530862</td>\n",
       "      <td>Vip-IRES-Cre/wt;Ai32(RCL-ChR2(H134R)_EYFP)/wt</td>\n",
       "      <td>M</td>\n",
       "      <td>NeuropixelVisualBehavior</td>\n",
       "      <td>149</td>\n",
       "      <td>1677.0</td>\n",
       "      <td>...</td>\n",
       "      <td>2304.0</td>\n",
       "      <td>['APN', 'CA1', 'CA3', 'DG-mo', 'DG-po', 'DG-sg...</td>\n",
       "      <td>H</td>\n",
       "      <td>0.0</td>\n",
       "      <td>2</td>\n",
       "      <td>Novel</td>\n",
       "      <td>1.0</td>\n",
       "      <td>4</td>\n",
       "      <td>NaN</td>\n",
       "      <td>NaN</td>\n",
       "    </tr>\n",
       "    <tr>\n",
       "      <th>1053925378</th>\n",
       "      <td>1053960984</td>\n",
       "      <td>2020-10-01 16:07:18.990</td>\n",
       "      <td>NP.0</td>\n",
       "      <td>EPHYS_1_images_H_3uL_reward</td>\n",
       "      <td>532246</td>\n",
       "      <td>Vip-IRES-Cre/wt;Ai32(RCL-ChR2(H134R)_EYFP)/wt</td>\n",
       "      <td>M</td>\n",
       "      <td>NeuropixelVisualBehavior</td>\n",
       "      <td>145</td>\n",
       "      <td>1823.0</td>\n",
       "      <td>...</td>\n",
       "      <td>2304.0</td>\n",
       "      <td>['APN', 'CA1', 'CA3', 'DG-mo', 'DG-po', 'DG-sg...</td>\n",
       "      <td>H</td>\n",
       "      <td>0.0</td>\n",
       "      <td>2</td>\n",
       "      <td>Novel</td>\n",
       "      <td>1.0</td>\n",
       "      <td>5</td>\n",
       "      <td>NaN</td>\n",
       "      <td>NaN</td>\n",
       "    </tr>\n",
       "    <tr>\n",
       "      <th>1053941483</th>\n",
       "      <td>1053960987</td>\n",
       "      <td>2020-10-01 17:03:58.362</td>\n",
       "      <td>NP.1</td>\n",
       "      <td>EPHYS_1_images_H_3uL_reward</td>\n",
       "      <td>527749</td>\n",
       "      <td>Sst-IRES-Cre/wt;Ai32(RCL-ChR2(H134R)_EYFP)/wt</td>\n",
       "      <td>M</td>\n",
       "      <td>NeuropixelVisualBehavior</td>\n",
       "      <td>180</td>\n",
       "      <td>1543.0</td>\n",
       "      <td>...</td>\n",
       "      <td>2304.0</td>\n",
       "      <td>['APN', 'CA1', 'CA3', 'DG-mo', 'DG-po', 'DG-sg...</td>\n",
       "      <td>H</td>\n",
       "      <td>0.0</td>\n",
       "      <td>2</td>\n",
       "      <td>Novel</td>\n",
       "      <td>1.0</td>\n",
       "      <td>6</td>\n",
       "      <td>NaN</td>\n",
       "      <td>NaN</td>\n",
       "    </tr>\n",
       "  </tbody>\n",
       "</table>\n",
       "<p>5 rows × 21 columns</p>\n",
       "</div>"
      ],
      "text/plain": [
       "                    behavior_session_id      date_of_acquisition  \\\n",
       "ecephys_session_id                                                 \n",
       "1052342277                   1052374521  2020-09-23 15:34:18.179   \n",
       "1051155866                   1052162536  2020-09-17 15:05:39.665   \n",
       "1052533639                   1052572359  2020-09-24 15:12:13.229   \n",
       "1053925378                   1053960984  2020-10-01 16:07:18.990   \n",
       "1053941483                   1053960987  2020-10-01 17:03:58.362   \n",
       "\n",
       "                   equipment_name                 session_type  mouse_id  \\\n",
       "ecephys_session_id                                                         \n",
       "1052342277                   NP.1  EPHYS_1_images_G_3uL_reward    530862   \n",
       "1051155866                   NP.1  EPHYS_1_images_H_3uL_reward    524760   \n",
       "1052533639                   NP.1  EPHYS_1_images_H_3uL_reward    530862   \n",
       "1053925378                   NP.0  EPHYS_1_images_H_3uL_reward    532246   \n",
       "1053941483                   NP.1  EPHYS_1_images_H_3uL_reward    527749   \n",
       "\n",
       "                                                         genotype sex  \\\n",
       "ecephys_session_id                                                      \n",
       "1052342277          Vip-IRES-Cre/wt;Ai32(RCL-ChR2(H134R)_EYFP)/wt   M   \n",
       "1051155866                                                  wt/wt   F   \n",
       "1052533639          Vip-IRES-Cre/wt;Ai32(RCL-ChR2(H134R)_EYFP)/wt   M   \n",
       "1053925378          Vip-IRES-Cre/wt;Ai32(RCL-ChR2(H134R)_EYFP)/wt   M   \n",
       "1053941483          Sst-IRES-Cre/wt;Ai32(RCL-ChR2(H134R)_EYFP)/wt   M   \n",
       "\n",
       "                                project_code  age_in_days  unit_count  ...  \\\n",
       "ecephys_session_id                                                     ...   \n",
       "1052342277          NeuropixelVisualBehavior          148      1696.0  ...   \n",
       "1051155866          NeuropixelVisualBehavior          180      1922.0  ...   \n",
       "1052533639          NeuropixelVisualBehavior          149      1677.0  ...   \n",
       "1053925378          NeuropixelVisualBehavior          145      1823.0  ...   \n",
       "1053941483          NeuropixelVisualBehavior          180      1543.0  ...   \n",
       "\n",
       "                    channel_count  \\\n",
       "ecephys_session_id                  \n",
       "1052342277                 2304.0   \n",
       "1051155866                 2304.0   \n",
       "1052533639                 2304.0   \n",
       "1053925378                 2304.0   \n",
       "1053941483                 2304.0   \n",
       "\n",
       "                                                   structure_acronyms  \\\n",
       "ecephys_session_id                                                      \n",
       "1052342277          ['APN', 'CA1', 'CA3', 'DG-mo', 'DG-po', 'DG-sg...   \n",
       "1051155866          ['APN', 'CA1', 'CA3', 'DG-mo', 'DG-po', 'DG-sg...   \n",
       "1052533639          ['APN', 'CA1', 'CA3', 'DG-mo', 'DG-po', 'DG-sg...   \n",
       "1053925378          ['APN', 'CA1', 'CA3', 'DG-mo', 'DG-po', 'DG-sg...   \n",
       "1053941483          ['APN', 'CA1', 'CA3', 'DG-mo', 'DG-po', 'DG-sg...   \n",
       "\n",
       "                   image_set prior_exposures_to_image_set  session_number  \\\n",
       "ecephys_session_id                                                          \n",
       "1052342277                 G                         32.0               1   \n",
       "1051155866                 H                          0.0               2   \n",
       "1052533639                 H                          0.0               2   \n",
       "1053925378                 H                          0.0               2   \n",
       "1053941483                 H                          0.0               2   \n",
       "\n",
       "                    experience_level prior_exposures_to_omissions  file_id  \\\n",
       "ecephys_session_id                                                           \n",
       "1052342277                  Familiar                          0.0        0   \n",
       "1051155866                     Novel                          1.0        1   \n",
       "1052533639                     Novel                          1.0        4   \n",
       "1053925378                     Novel                          1.0        5   \n",
       "1053941483                     Novel                          1.0        6   \n",
       "\n",
       "                    abnormal_histology abnormal_activity  \n",
       "ecephys_session_id                                        \n",
       "1052342277                         NaN               NaN  \n",
       "1051155866                         NaN               NaN  \n",
       "1052533639                         NaN               NaN  \n",
       "1053925378                         NaN               NaN  \n",
       "1053941483                         NaN               NaN  \n",
       "\n",
       "[5 rows x 21 columns]"
      ]
     },
     "execution_count": 15,
     "metadata": {},
     "output_type": "execute_result"
    }
   ],
   "source": [
    "ecephys_sessions = cache.get_ecephys_session_table()\n",
    "\n",
    "print(f\"Total number of ecephys sessions: {len(ecephys_sessions)}\")\n",
    "\n",
    "ecephys_sessions.head()"
   ]
  },
  {
   "cell_type": "markdown",
   "id": "be96dfe8",
   "metadata": {},
   "source": [
    "The `ecephys_session_table` DataFrame provides a high-level overview for ecephys sessions in the Visual Behavior Neurpoixels dataset. The index column (ecephys_session_id) is a unique ID, which serves as a key for access behavior data for each session. To get additional information about this data table (and other tables) please visit [this example notebook](https://allensdk.readthedocs.io/en/latest/_static/examples/nb/visual_behavior_neuropixels_quickstart.html).\n",
    "\n",
    "Sharp eyed readers may be wondering why the number of behavior session (103) in this table does not match up with the number of NWB files in the data release (153). Some of the sessions being released had obvious abnormalities in either electrophysiological activity or histology. By default `get_ecephys_session_table()` does not return the metadata for these abnormal sessions. To see all 153 sessions, run `get_ecephys_session_table(filter_abnormalities=False)`\n"
   ]
  },
  {
   "cell_type": "markdown",
   "id": "d2016732",
   "metadata": {},
   "source": [
    "#### Behavior sessions table\n",
    "\n",
    "Let's look at the contents of `behavior_sessions.csv`:"
   ]
  },
  {
   "cell_type": "code",
   "execution_count": 16,
   "id": "b82d40c1",
   "metadata": {},
   "outputs": [
    {
     "name": "stdout",
     "output_type": "stream",
     "text": [
      "Total number of behavior sessions: 3424\n"
     ]
    },
    {
     "data": {
      "text/html": [
       "<div>\n",
       "<style scoped>\n",
       "    .dataframe tbody tr th:only-of-type {\n",
       "        vertical-align: middle;\n",
       "    }\n",
       "\n",
       "    .dataframe tbody tr th {\n",
       "        vertical-align: top;\n",
       "    }\n",
       "\n",
       "    .dataframe thead th {\n",
       "        text-align: right;\n",
       "    }\n",
       "</style>\n",
       "<table border=\"1\" class=\"dataframe\">\n",
       "  <thead>\n",
       "    <tr style=\"text-align: right;\">\n",
       "      <th></th>\n",
       "      <th>equipment_name</th>\n",
       "      <th>genotype</th>\n",
       "      <th>mouse_id</th>\n",
       "      <th>sex</th>\n",
       "      <th>age_in_days</th>\n",
       "      <th>session_number</th>\n",
       "      <th>prior_exposures_to_session_type</th>\n",
       "      <th>prior_exposures_to_image_set</th>\n",
       "      <th>prior_exposures_to_omissions</th>\n",
       "      <th>ecephys_session_id</th>\n",
       "      <th>date_of_acquisition</th>\n",
       "      <th>session_type</th>\n",
       "      <th>image_set</th>\n",
       "    </tr>\n",
       "    <tr>\n",
       "      <th>behavior_session_id</th>\n",
       "      <th></th>\n",
       "      <th></th>\n",
       "      <th></th>\n",
       "      <th></th>\n",
       "      <th></th>\n",
       "      <th></th>\n",
       "      <th></th>\n",
       "      <th></th>\n",
       "      <th></th>\n",
       "      <th></th>\n",
       "      <th></th>\n",
       "      <th></th>\n",
       "      <th></th>\n",
       "    </tr>\n",
       "  </thead>\n",
       "  <tbody>\n",
       "    <tr>\n",
       "      <th>1051333618</th>\n",
       "      <td>BEH.G-Box2</td>\n",
       "      <td>Vip-IRES-Cre/wt;Ai32(RCL-ChR2(H134R)_EYFP)/wt</td>\n",
       "      <td>540536</td>\n",
       "      <td>M</td>\n",
       "      <td>85</td>\n",
       "      <td>1</td>\n",
       "      <td>0</td>\n",
       "      <td>NaN</td>\n",
       "      <td>0.0</td>\n",
       "      <td>NaN</td>\n",
       "      <td>2020-09-18 10:02:30.869000</td>\n",
       "      <td>TRAINING_0_gratings_autorewards_15min_0uL_reward</td>\n",
       "      <td>NaN</td>\n",
       "    </tr>\n",
       "    <tr>\n",
       "      <th>1052301754</th>\n",
       "      <td>BEH.G-Box2</td>\n",
       "      <td>Vip-IRES-Cre/wt;Ai32(RCL-ChR2(H134R)_EYFP)/wt</td>\n",
       "      <td>540536</td>\n",
       "      <td>M</td>\n",
       "      <td>90</td>\n",
       "      <td>4</td>\n",
       "      <td>2</td>\n",
       "      <td>NaN</td>\n",
       "      <td>0.0</td>\n",
       "      <td>NaN</td>\n",
       "      <td>2020-09-23 09:43:25.595000</td>\n",
       "      <td>TRAINING_1_gratings_10uL_reward</td>\n",
       "      <td>NaN</td>\n",
       "    </tr>\n",
       "    <tr>\n",
       "      <th>1052374521</th>\n",
       "      <td>NP.1</td>\n",
       "      <td>Vip-IRES-Cre/wt;Ai32(RCL-ChR2(H134R)_EYFP)/wt</td>\n",
       "      <td>530862</td>\n",
       "      <td>M</td>\n",
       "      <td>148</td>\n",
       "      <td>44</td>\n",
       "      <td>0</td>\n",
       "      <td>32.0</td>\n",
       "      <td>0.0</td>\n",
       "      <td>1.052342e+09</td>\n",
       "      <td>2020-09-23 15:34:18.179000</td>\n",
       "      <td>EPHYS_1_images_G_3uL_reward</td>\n",
       "      <td>G</td>\n",
       "    </tr>\n",
       "    <tr>\n",
       "      <th>1051860415</th>\n",
       "      <td>BEH.G-Box4</td>\n",
       "      <td>wt/wt</td>\n",
       "      <td>533539</td>\n",
       "      <td>F</td>\n",
       "      <td>127</td>\n",
       "      <td>9</td>\n",
       "      <td>0</td>\n",
       "      <td>3.0</td>\n",
       "      <td>0.0</td>\n",
       "      <td>NaN</td>\n",
       "      <td>2020-09-21 09:57:23.650000</td>\n",
       "      <td>TRAINING_4_images_G_training_7uL_reward</td>\n",
       "      <td>G</td>\n",
       "    </tr>\n",
       "    <tr>\n",
       "      <th>1052132182</th>\n",
       "      <td>BEH.F-Box5</td>\n",
       "      <td>Vip-IRES-Cre/wt;Ai32(RCL-ChR2(H134R)_EYFP)/wt</td>\n",
       "      <td>536480</td>\n",
       "      <td>M</td>\n",
       "      <td>112</td>\n",
       "      <td>8</td>\n",
       "      <td>1</td>\n",
       "      <td>1.0</td>\n",
       "      <td>0.0</td>\n",
       "      <td>NaN</td>\n",
       "      <td>2020-09-22 12:04:46.304000</td>\n",
       "      <td>TRAINING_3_images_G_10uL_reward</td>\n",
       "      <td>G</td>\n",
       "    </tr>\n",
       "  </tbody>\n",
       "</table>\n",
       "</div>"
      ],
      "text/plain": [
       "                    equipment_name  \\\n",
       "behavior_session_id                  \n",
       "1051333618              BEH.G-Box2   \n",
       "1052301754              BEH.G-Box2   \n",
       "1052374521                    NP.1   \n",
       "1051860415              BEH.G-Box4   \n",
       "1052132182              BEH.F-Box5   \n",
       "\n",
       "                                                          genotype  mouse_id  \\\n",
       "behavior_session_id                                                            \n",
       "1051333618           Vip-IRES-Cre/wt;Ai32(RCL-ChR2(H134R)_EYFP)/wt    540536   \n",
       "1052301754           Vip-IRES-Cre/wt;Ai32(RCL-ChR2(H134R)_EYFP)/wt    540536   \n",
       "1052374521           Vip-IRES-Cre/wt;Ai32(RCL-ChR2(H134R)_EYFP)/wt    530862   \n",
       "1051860415                                                   wt/wt    533539   \n",
       "1052132182           Vip-IRES-Cre/wt;Ai32(RCL-ChR2(H134R)_EYFP)/wt    536480   \n",
       "\n",
       "                    sex  age_in_days  session_number  \\\n",
       "behavior_session_id                                    \n",
       "1051333618            M           85               1   \n",
       "1052301754            M           90               4   \n",
       "1052374521            M          148              44   \n",
       "1051860415            F          127               9   \n",
       "1052132182            M          112               8   \n",
       "\n",
       "                     prior_exposures_to_session_type  \\\n",
       "behavior_session_id                                    \n",
       "1051333618                                         0   \n",
       "1052301754                                         2   \n",
       "1052374521                                         0   \n",
       "1051860415                                         0   \n",
       "1052132182                                         1   \n",
       "\n",
       "                     prior_exposures_to_image_set  \\\n",
       "behavior_session_id                                 \n",
       "1051333618                                    NaN   \n",
       "1052301754                                    NaN   \n",
       "1052374521                                   32.0   \n",
       "1051860415                                    3.0   \n",
       "1052132182                                    1.0   \n",
       "\n",
       "                     prior_exposures_to_omissions  ecephys_session_id  \\\n",
       "behavior_session_id                                                     \n",
       "1051333618                                    0.0                 NaN   \n",
       "1052301754                                    0.0                 NaN   \n",
       "1052374521                                    0.0        1.052342e+09   \n",
       "1051860415                                    0.0                 NaN   \n",
       "1052132182                                    0.0                 NaN   \n",
       "\n",
       "                            date_of_acquisition  \\\n",
       "behavior_session_id                               \n",
       "1051333618           2020-09-18 10:02:30.869000   \n",
       "1052301754           2020-09-23 09:43:25.595000   \n",
       "1052374521           2020-09-23 15:34:18.179000   \n",
       "1051860415           2020-09-21 09:57:23.650000   \n",
       "1052132182           2020-09-22 12:04:46.304000   \n",
       "\n",
       "                                                         session_type  \\\n",
       "behavior_session_id                                                     \n",
       "1051333618           TRAINING_0_gratings_autorewards_15min_0uL_reward   \n",
       "1052301754                            TRAINING_1_gratings_10uL_reward   \n",
       "1052374521                                EPHYS_1_images_G_3uL_reward   \n",
       "1051860415                    TRAINING_4_images_G_training_7uL_reward   \n",
       "1052132182                            TRAINING_3_images_G_10uL_reward   \n",
       "\n",
       "                    image_set  \n",
       "behavior_session_id            \n",
       "1051333618                NaN  \n",
       "1052301754                NaN  \n",
       "1052374521                  G  \n",
       "1051860415                  G  \n",
       "1052132182                  G  "
      ]
     },
     "execution_count": 16,
     "metadata": {},
     "output_type": "execute_result"
    }
   ],
   "source": [
    "behavior_sessions = cache.get_behavior_session_table()\n",
    "\n",
    "print(f\"Total number of behavior sessions: {len(behavior_sessions)}\")\n",
    "\n",
    "behavior_sessions.head()"
   ]
  },
  {
   "cell_type": "markdown",
   "id": "405b5888",
   "metadata": {},
   "source": [
    "This file contains metadata summarizing every behavior session experienced by the mice in this data release. By filtering on the `mouse_id` column, it can be used to reconstruct the history of any given mouse as it passed through our experimental apparatus."
   ]
  },
  {
   "cell_type": "markdown",
   "id": "acb4f7a9",
   "metadata": {},
   "source": [
    "#### Probes table\n",
    "\n",
    "Let's look at the contents of `probes.csv`:"
   ]
  },
  {
   "cell_type": "code",
   "execution_count": 17,
   "id": "c8ccfb5a",
   "metadata": {
    "scrolled": true
   },
   "outputs": [
    {
     "name": "stdout",
     "output_type": "stream",
     "text": [
      "Total number of probes: 905\n"
     ]
    },
    {
     "data": {
      "text/html": [
       "<div>\n",
       "<style scoped>\n",
       "    .dataframe tbody tr th:only-of-type {\n",
       "        vertical-align: middle;\n",
       "    }\n",
       "\n",
       "    .dataframe tbody tr th {\n",
       "        vertical-align: top;\n",
       "    }\n",
       "\n",
       "    .dataframe thead th {\n",
       "        text-align: right;\n",
       "    }\n",
       "</style>\n",
       "<table border=\"1\" class=\"dataframe\">\n",
       "  <thead>\n",
       "    <tr style=\"text-align: right;\">\n",
       "      <th></th>\n",
       "      <th>ecephys_session_id</th>\n",
       "      <th>name</th>\n",
       "      <th>sampling_rate</th>\n",
       "      <th>lfp_sampling_rate</th>\n",
       "      <th>phase</th>\n",
       "      <th>has_lfp_data</th>\n",
       "      <th>unit_count</th>\n",
       "      <th>channel_count</th>\n",
       "      <th>structure_acronyms</th>\n",
       "    </tr>\n",
       "    <tr>\n",
       "      <th>ecephys_probe_id</th>\n",
       "      <th></th>\n",
       "      <th></th>\n",
       "      <th></th>\n",
       "      <th></th>\n",
       "      <th></th>\n",
       "      <th></th>\n",
       "      <th></th>\n",
       "      <th></th>\n",
       "      <th></th>\n",
       "    </tr>\n",
       "  </thead>\n",
       "  <tbody>\n",
       "    <tr>\n",
       "      <th>1044506933</th>\n",
       "      <td>1044385384</td>\n",
       "      <td>probeB</td>\n",
       "      <td>30000.178402</td>\n",
       "      <td>2500.014867</td>\n",
       "      <td>1.0</td>\n",
       "      <td>True</td>\n",
       "      <td>701</td>\n",
       "      <td>384</td>\n",
       "      <td>['CA1', 'DG', 'LP', 'POL', 'PoT', 'VISpm', 'ro...</td>\n",
       "    </tr>\n",
       "    <tr>\n",
       "      <th>1044506934</th>\n",
       "      <td>1044385384</td>\n",
       "      <td>probeC</td>\n",
       "      <td>30000.049852</td>\n",
       "      <td>2500.004154</td>\n",
       "      <td>1.0</td>\n",
       "      <td>True</td>\n",
       "      <td>307</td>\n",
       "      <td>384</td>\n",
       "      <td>['MB', 'MRN', 'POST', 'SCig', 'VISp', 'root']</td>\n",
       "    </tr>\n",
       "    <tr>\n",
       "      <th>1044506935</th>\n",
       "      <td>1044385384</td>\n",
       "      <td>probeD</td>\n",
       "      <td>30000.029115</td>\n",
       "      <td>2500.002426</td>\n",
       "      <td>1.0</td>\n",
       "      <td>True</td>\n",
       "      <td>521</td>\n",
       "      <td>384</td>\n",
       "      <td>['CA1', 'CA3', 'DG', 'LGv', 'MB', 'TH', 'VISl'...</td>\n",
       "    </tr>\n",
       "    <tr>\n",
       "      <th>1044506936</th>\n",
       "      <td>1044385384</td>\n",
       "      <td>probeE</td>\n",
       "      <td>30000.075851</td>\n",
       "      <td>2500.006321</td>\n",
       "      <td>1.0</td>\n",
       "      <td>True</td>\n",
       "      <td>282</td>\n",
       "      <td>384</td>\n",
       "      <td>['CA1', 'DG', 'MB', 'MGd', 'MGm', 'MRN', 'SGN'...</td>\n",
       "    </tr>\n",
       "    <tr>\n",
       "      <th>1044506937</th>\n",
       "      <td>1044385384</td>\n",
       "      <td>probeF</td>\n",
       "      <td>29999.959578</td>\n",
       "      <td>2499.996631</td>\n",
       "      <td>1.0</td>\n",
       "      <td>True</td>\n",
       "      <td>368</td>\n",
       "      <td>384</td>\n",
       "      <td>['CA1', 'DG', 'LP', 'MRN', 'POL', 'PoT', 'SGN'...</td>\n",
       "    </tr>\n",
       "  </tbody>\n",
       "</table>\n",
       "</div>"
      ],
      "text/plain": [
       "                  ecephys_session_id    name  sampling_rate  \\\n",
       "ecephys_probe_id                                              \n",
       "1044506933                1044385384  probeB   30000.178402   \n",
       "1044506934                1044385384  probeC   30000.049852   \n",
       "1044506935                1044385384  probeD   30000.029115   \n",
       "1044506936                1044385384  probeE   30000.075851   \n",
       "1044506937                1044385384  probeF   29999.959578   \n",
       "\n",
       "                  lfp_sampling_rate  phase  has_lfp_data  unit_count  \\\n",
       "ecephys_probe_id                                                       \n",
       "1044506933              2500.014867    1.0          True         701   \n",
       "1044506934              2500.004154    1.0          True         307   \n",
       "1044506935              2500.002426    1.0          True         521   \n",
       "1044506936              2500.006321    1.0          True         282   \n",
       "1044506937              2499.996631    1.0          True         368   \n",
       "\n",
       "                  channel_count  \\\n",
       "ecephys_probe_id                  \n",
       "1044506933                  384   \n",
       "1044506934                  384   \n",
       "1044506935                  384   \n",
       "1044506936                  384   \n",
       "1044506937                  384   \n",
       "\n",
       "                                                 structure_acronyms  \n",
       "ecephys_probe_id                                                     \n",
       "1044506933        ['CA1', 'DG', 'LP', 'POL', 'PoT', 'VISpm', 'ro...  \n",
       "1044506934            ['MB', 'MRN', 'POST', 'SCig', 'VISp', 'root']  \n",
       "1044506935        ['CA1', 'CA3', 'DG', 'LGv', 'MB', 'TH', 'VISl'...  \n",
       "1044506936        ['CA1', 'DG', 'MB', 'MGd', 'MGm', 'MRN', 'SGN'...  \n",
       "1044506937        ['CA1', 'DG', 'LP', 'MRN', 'POL', 'PoT', 'SGN'...  "
      ]
     },
     "execution_count": 17,
     "metadata": {},
     "output_type": "execute_result"
    }
   ],
   "source": [
    "probes = cache.get_probe_table()\n",
    "\n",
    "print(f\"Total number of probes: {len(probes)}\")\n",
    "\n",
    "probes.head()"
   ]
  },
  {
   "cell_type": "markdown",
   "id": "62aa07a9",
   "metadata": {},
   "source": [
    "This table records metadata for every neuropixels probe encompassed in this data release. Probes are identified by a unique ID (`ecephys_probe_id`). They can be associated with ecephys sessions via the `ecephys_session_id` column."
   ]
  },
  {
   "cell_type": "markdown",
   "id": "9307992e",
   "metadata": {},
   "source": [
    "#### Channels table\n",
    "\n",
    "Let's look at the contents of `channels.csv`:"
   ]
  },
  {
   "cell_type": "code",
   "execution_count": 18,
   "id": "34929cef",
   "metadata": {},
   "outputs": [
    {
     "name": "stdout",
     "output_type": "stream",
     "text": [
      "Total number of channels: 347520\n"
     ]
    },
    {
     "data": {
      "text/html": [
       "<div>\n",
       "<style scoped>\n",
       "    .dataframe tbody tr th:only-of-type {\n",
       "        vertical-align: middle;\n",
       "    }\n",
       "\n",
       "    .dataframe tbody tr th {\n",
       "        vertical-align: top;\n",
       "    }\n",
       "\n",
       "    .dataframe thead th {\n",
       "        text-align: right;\n",
       "    }\n",
       "</style>\n",
       "<table border=\"1\" class=\"dataframe\">\n",
       "  <thead>\n",
       "    <tr style=\"text-align: right;\">\n",
       "      <th></th>\n",
       "      <th>ecephys_probe_id</th>\n",
       "      <th>ecephys_session_id</th>\n",
       "      <th>probe_channel_number</th>\n",
       "      <th>probe_vertical_position</th>\n",
       "      <th>probe_horizontal_position</th>\n",
       "      <th>anterior_posterior_ccf_coordinate</th>\n",
       "      <th>dorsal_ventral_ccf_coordinate</th>\n",
       "      <th>left_right_ccf_coordinate</th>\n",
       "      <th>structure_acronym</th>\n",
       "      <th>unit_count</th>\n",
       "      <th>valid_data</th>\n",
       "    </tr>\n",
       "    <tr>\n",
       "      <th>ecephys_channel_id</th>\n",
       "      <th></th>\n",
       "      <th></th>\n",
       "      <th></th>\n",
       "      <th></th>\n",
       "      <th></th>\n",
       "      <th></th>\n",
       "      <th></th>\n",
       "      <th></th>\n",
       "      <th></th>\n",
       "      <th></th>\n",
       "      <th></th>\n",
       "    </tr>\n",
       "  </thead>\n",
       "  <tbody>\n",
       "    <tr>\n",
       "      <th>1049365509</th>\n",
       "      <td>1048089911</td>\n",
       "      <td>1047969464</td>\n",
       "      <td>0</td>\n",
       "      <td>20.0</td>\n",
       "      <td>43.0</td>\n",
       "      <td>8445.0</td>\n",
       "      <td>4013.0</td>\n",
       "      <td>6753.0</td>\n",
       "      <td>MRN</td>\n",
       "      <td>0</td>\n",
       "      <td>True</td>\n",
       "    </tr>\n",
       "    <tr>\n",
       "      <th>1049365511</th>\n",
       "      <td>1048089911</td>\n",
       "      <td>1047969464</td>\n",
       "      <td>1</td>\n",
       "      <td>20.0</td>\n",
       "      <td>11.0</td>\n",
       "      <td>8443.0</td>\n",
       "      <td>4005.0</td>\n",
       "      <td>6755.0</td>\n",
       "      <td>MRN</td>\n",
       "      <td>5</td>\n",
       "      <td>True</td>\n",
       "    </tr>\n",
       "    <tr>\n",
       "      <th>1049365512</th>\n",
       "      <td>1048089911</td>\n",
       "      <td>1047969464</td>\n",
       "      <td>2</td>\n",
       "      <td>40.0</td>\n",
       "      <td>59.0</td>\n",
       "      <td>8441.0</td>\n",
       "      <td>3997.0</td>\n",
       "      <td>6757.0</td>\n",
       "      <td>MRN</td>\n",
       "      <td>0</td>\n",
       "      <td>True</td>\n",
       "    </tr>\n",
       "    <tr>\n",
       "      <th>1049365513</th>\n",
       "      <td>1048089911</td>\n",
       "      <td>1047969464</td>\n",
       "      <td>3</td>\n",
       "      <td>40.0</td>\n",
       "      <td>27.0</td>\n",
       "      <td>8439.0</td>\n",
       "      <td>3989.0</td>\n",
       "      <td>6759.0</td>\n",
       "      <td>MRN</td>\n",
       "      <td>5</td>\n",
       "      <td>True</td>\n",
       "    </tr>\n",
       "    <tr>\n",
       "      <th>1049365514</th>\n",
       "      <td>1048089911</td>\n",
       "      <td>1047969464</td>\n",
       "      <td>4</td>\n",
       "      <td>60.0</td>\n",
       "      <td>43.0</td>\n",
       "      <td>8438.0</td>\n",
       "      <td>3981.0</td>\n",
       "      <td>6761.0</td>\n",
       "      <td>MRN</td>\n",
       "      <td>7</td>\n",
       "      <td>True</td>\n",
       "    </tr>\n",
       "  </tbody>\n",
       "</table>\n",
       "</div>"
      ],
      "text/plain": [
       "                    ecephys_probe_id  ecephys_session_id  \\\n",
       "ecephys_channel_id                                         \n",
       "1049365509                1048089911          1047969464   \n",
       "1049365511                1048089911          1047969464   \n",
       "1049365512                1048089911          1047969464   \n",
       "1049365513                1048089911          1047969464   \n",
       "1049365514                1048089911          1047969464   \n",
       "\n",
       "                    probe_channel_number  probe_vertical_position  \\\n",
       "ecephys_channel_id                                                  \n",
       "1049365509                             0                     20.0   \n",
       "1049365511                             1                     20.0   \n",
       "1049365512                             2                     40.0   \n",
       "1049365513                             3                     40.0   \n",
       "1049365514                             4                     60.0   \n",
       "\n",
       "                    probe_horizontal_position  \\\n",
       "ecephys_channel_id                              \n",
       "1049365509                               43.0   \n",
       "1049365511                               11.0   \n",
       "1049365512                               59.0   \n",
       "1049365513                               27.0   \n",
       "1049365514                               43.0   \n",
       "\n",
       "                    anterior_posterior_ccf_coordinate  \\\n",
       "ecephys_channel_id                                      \n",
       "1049365509                                     8445.0   \n",
       "1049365511                                     8443.0   \n",
       "1049365512                                     8441.0   \n",
       "1049365513                                     8439.0   \n",
       "1049365514                                     8438.0   \n",
       "\n",
       "                    dorsal_ventral_ccf_coordinate  left_right_ccf_coordinate  \\\n",
       "ecephys_channel_id                                                             \n",
       "1049365509                                 4013.0                     6753.0   \n",
       "1049365511                                 4005.0                     6755.0   \n",
       "1049365512                                 3997.0                     6757.0   \n",
       "1049365513                                 3989.0                     6759.0   \n",
       "1049365514                                 3981.0                     6761.0   \n",
       "\n",
       "                   structure_acronym  unit_count  valid_data  \n",
       "ecephys_channel_id                                            \n",
       "1049365509                       MRN           0        True  \n",
       "1049365511                       MRN           5        True  \n",
       "1049365512                       MRN           0        True  \n",
       "1049365513                       MRN           5        True  \n",
       "1049365514                       MRN           7        True  "
      ]
     },
     "execution_count": 18,
     "metadata": {},
     "output_type": "execute_result"
    }
   ],
   "source": [
    "channels = cache.get_channel_table()\n",
    "\n",
    "print(f\"Total number of channels: {len(channels)}\")\n",
    "\n",
    "channels.head()"
   ]
  },
  {
   "cell_type": "markdown",
   "id": "a3a3aa5b",
   "metadata": {},
   "source": [
    "This table records metadata for each individual channel on the neuropixels probes encompassed in this release. Channels are identified by a unique identifier (`ecephys_channel_id`) and can be linked to probes via the `ecephys_probe_id` column and to sessions via the `ecephys_session_id` column."
   ]
  },
  {
   "cell_type": "markdown",
   "id": "a8da4a21",
   "metadata": {},
   "source": [
    "#### Units table\n",
    "\n",
    "Let's look at the contents of `units.csv`:"
   ]
  },
  {
   "cell_type": "code",
   "execution_count": 19,
   "id": "d52fc4a9",
   "metadata": {},
   "outputs": [
    {
     "name": "stdout",
     "output_type": "stream",
     "text": [
      "Total number of units: 319013\n"
     ]
    },
    {
     "data": {
      "text/html": [
       "<div>\n",
       "<style scoped>\n",
       "    .dataframe tbody tr th:only-of-type {\n",
       "        vertical-align: middle;\n",
       "    }\n",
       "\n",
       "    .dataframe tbody tr th {\n",
       "        vertical-align: top;\n",
       "    }\n",
       "\n",
       "    .dataframe thead th {\n",
       "        text-align: right;\n",
       "    }\n",
       "</style>\n",
       "<table border=\"1\" class=\"dataframe\">\n",
       "  <thead>\n",
       "    <tr style=\"text-align: right;\">\n",
       "      <th></th>\n",
       "      <th>ecephys_channel_id</th>\n",
       "      <th>ecephys_probe_id</th>\n",
       "      <th>ecephys_session_id</th>\n",
       "      <th>amplitude_cutoff</th>\n",
       "      <th>anterior_posterior_ccf_coordinate</th>\n",
       "      <th>dorsal_ventral_ccf_coordinate</th>\n",
       "      <th>left_right_ccf_coordinate</th>\n",
       "      <th>cumulative_drift</th>\n",
       "      <th>d_prime</th>\n",
       "      <th>structure_acronym</th>\n",
       "      <th>...</th>\n",
       "      <th>valid_data</th>\n",
       "      <th>amplitude</th>\n",
       "      <th>waveform_duration</th>\n",
       "      <th>waveform_halfwidth</th>\n",
       "      <th>PT_ratio</th>\n",
       "      <th>recovery_slope</th>\n",
       "      <th>repolarization_slope</th>\n",
       "      <th>spread</th>\n",
       "      <th>velocity_above</th>\n",
       "      <th>velocity_below</th>\n",
       "    </tr>\n",
       "    <tr>\n",
       "      <th>unit_id</th>\n",
       "      <th></th>\n",
       "      <th></th>\n",
       "      <th></th>\n",
       "      <th></th>\n",
       "      <th></th>\n",
       "      <th></th>\n",
       "      <th></th>\n",
       "      <th></th>\n",
       "      <th></th>\n",
       "      <th></th>\n",
       "      <th></th>\n",
       "      <th></th>\n",
       "      <th></th>\n",
       "      <th></th>\n",
       "      <th></th>\n",
       "      <th></th>\n",
       "      <th></th>\n",
       "      <th></th>\n",
       "      <th></th>\n",
       "      <th></th>\n",
       "      <th></th>\n",
       "    </tr>\n",
       "  </thead>\n",
       "  <tbody>\n",
       "    <tr>\n",
       "      <th>1157005856</th>\n",
       "      <td>1157001834</td>\n",
       "      <td>1046469925</td>\n",
       "      <td>1046166369</td>\n",
       "      <td>0.500000</td>\n",
       "      <td>8453.0</td>\n",
       "      <td>3353.0</td>\n",
       "      <td>6719.0</td>\n",
       "      <td>140.32</td>\n",
       "      <td>6.088133</td>\n",
       "      <td>MB</td>\n",
       "      <td>...</td>\n",
       "      <td>True</td>\n",
       "      <td>286.132665</td>\n",
       "      <td>0.151089</td>\n",
       "      <td>0.096147</td>\n",
       "      <td>0.310791</td>\n",
       "      <td>-0.227726</td>\n",
       "      <td>0.961313</td>\n",
       "      <td>20.0</td>\n",
       "      <td>-0.457845</td>\n",
       "      <td>NaN</td>\n",
       "    </tr>\n",
       "    <tr>\n",
       "      <th>1157005853</th>\n",
       "      <td>1157001834</td>\n",
       "      <td>1046469925</td>\n",
       "      <td>1046166369</td>\n",
       "      <td>0.323927</td>\n",
       "      <td>8453.0</td>\n",
       "      <td>3353.0</td>\n",
       "      <td>6719.0</td>\n",
       "      <td>239.76</td>\n",
       "      <td>4.635583</td>\n",
       "      <td>MB</td>\n",
       "      <td>...</td>\n",
       "      <td>True</td>\n",
       "      <td>181.418835</td>\n",
       "      <td>0.357119</td>\n",
       "      <td>0.192295</td>\n",
       "      <td>0.531490</td>\n",
       "      <td>-0.150522</td>\n",
       "      <td>0.732741</td>\n",
       "      <td>30.0</td>\n",
       "      <td>2.060302</td>\n",
       "      <td>-2.060302</td>\n",
       "    </tr>\n",
       "    <tr>\n",
       "      <th>1157005720</th>\n",
       "      <td>1157001786</td>\n",
       "      <td>1046469925</td>\n",
       "      <td>1046166369</td>\n",
       "      <td>0.044133</td>\n",
       "      <td>8575.0</td>\n",
       "      <td>3842.0</td>\n",
       "      <td>6590.0</td>\n",
       "      <td>263.32</td>\n",
       "      <td>5.691955</td>\n",
       "      <td>MRN</td>\n",
       "      <td>...</td>\n",
       "      <td>True</td>\n",
       "      <td>180.866205</td>\n",
       "      <td>0.521943</td>\n",
       "      <td>0.178559</td>\n",
       "      <td>0.612217</td>\n",
       "      <td>-0.024239</td>\n",
       "      <td>0.539687</td>\n",
       "      <td>80.0</td>\n",
       "      <td>0.000000</td>\n",
       "      <td>0.863364</td>\n",
       "    </tr>\n",
       "    <tr>\n",
       "      <th>1157006074</th>\n",
       "      <td>1157001929</td>\n",
       "      <td>1046469925</td>\n",
       "      <td>1046166369</td>\n",
       "      <td>0.000583</td>\n",
       "      <td>8212.0</td>\n",
       "      <td>2477.0</td>\n",
       "      <td>6992.0</td>\n",
       "      <td>154.64</td>\n",
       "      <td>6.049284</td>\n",
       "      <td>NOT</td>\n",
       "      <td>...</td>\n",
       "      <td>True</td>\n",
       "      <td>574.984215</td>\n",
       "      <td>0.343384</td>\n",
       "      <td>0.192295</td>\n",
       "      <td>0.470194</td>\n",
       "      <td>-0.356670</td>\n",
       "      <td>2.258649</td>\n",
       "      <td>40.0</td>\n",
       "      <td>1.373534</td>\n",
       "      <td>0.000000</td>\n",
       "    </tr>\n",
       "    <tr>\n",
       "      <th>1157006072</th>\n",
       "      <td>1157001929</td>\n",
       "      <td>1046469925</td>\n",
       "      <td>1046166369</td>\n",
       "      <td>0.500000</td>\n",
       "      <td>8212.0</td>\n",
       "      <td>2477.0</td>\n",
       "      <td>6992.0</td>\n",
       "      <td>242.58</td>\n",
       "      <td>4.745499</td>\n",
       "      <td>NOT</td>\n",
       "      <td>...</td>\n",
       "      <td>True</td>\n",
       "      <td>315.794115</td>\n",
       "      <td>0.329648</td>\n",
       "      <td>0.164824</td>\n",
       "      <td>0.488276</td>\n",
       "      <td>-0.210010</td>\n",
       "      <td>1.320270</td>\n",
       "      <td>70.0</td>\n",
       "      <td>0.412060</td>\n",
       "      <td>0.343384</td>\n",
       "    </tr>\n",
       "  </tbody>\n",
       "</table>\n",
       "<p>5 rows × 34 columns</p>\n",
       "</div>"
      ],
      "text/plain": [
       "            ecephys_channel_id  ecephys_probe_id  ecephys_session_id  \\\n",
       "unit_id                                                                \n",
       "1157005856          1157001834        1046469925          1046166369   \n",
       "1157005853          1157001834        1046469925          1046166369   \n",
       "1157005720          1157001786        1046469925          1046166369   \n",
       "1157006074          1157001929        1046469925          1046166369   \n",
       "1157006072          1157001929        1046469925          1046166369   \n",
       "\n",
       "            amplitude_cutoff  anterior_posterior_ccf_coordinate  \\\n",
       "unit_id                                                           \n",
       "1157005856          0.500000                             8453.0   \n",
       "1157005853          0.323927                             8453.0   \n",
       "1157005720          0.044133                             8575.0   \n",
       "1157006074          0.000583                             8212.0   \n",
       "1157006072          0.500000                             8212.0   \n",
       "\n",
       "            dorsal_ventral_ccf_coordinate  left_right_ccf_coordinate  \\\n",
       "unit_id                                                                \n",
       "1157005856                         3353.0                     6719.0   \n",
       "1157005853                         3353.0                     6719.0   \n",
       "1157005720                         3842.0                     6590.0   \n",
       "1157006074                         2477.0                     6992.0   \n",
       "1157006072                         2477.0                     6992.0   \n",
       "\n",
       "            cumulative_drift   d_prime structure_acronym  ...  valid_data  \\\n",
       "unit_id                                                   ...               \n",
       "1157005856            140.32  6.088133                MB  ...        True   \n",
       "1157005853            239.76  4.635583                MB  ...        True   \n",
       "1157005720            263.32  5.691955               MRN  ...        True   \n",
       "1157006074            154.64  6.049284               NOT  ...        True   \n",
       "1157006072            242.58  4.745499               NOT  ...        True   \n",
       "\n",
       "             amplitude  waveform_duration  waveform_halfwidth  PT_ratio  \\\n",
       "unit_id                                                                   \n",
       "1157005856  286.132665           0.151089            0.096147  0.310791   \n",
       "1157005853  181.418835           0.357119            0.192295  0.531490   \n",
       "1157005720  180.866205           0.521943            0.178559  0.612217   \n",
       "1157006074  574.984215           0.343384            0.192295  0.470194   \n",
       "1157006072  315.794115           0.329648            0.164824  0.488276   \n",
       "\n",
       "            recovery_slope  repolarization_slope  spread  velocity_above  \\\n",
       "unit_id                                                                    \n",
       "1157005856       -0.227726              0.961313    20.0       -0.457845   \n",
       "1157005853       -0.150522              0.732741    30.0        2.060302   \n",
       "1157005720       -0.024239              0.539687    80.0        0.000000   \n",
       "1157006074       -0.356670              2.258649    40.0        1.373534   \n",
       "1157006072       -0.210010              1.320270    70.0        0.412060   \n",
       "\n",
       "            velocity_below  \n",
       "unit_id                     \n",
       "1157005856             NaN  \n",
       "1157005853       -2.060302  \n",
       "1157005720        0.863364  \n",
       "1157006074        0.000000  \n",
       "1157006072        0.343384  \n",
       "\n",
       "[5 rows x 34 columns]"
      ]
     },
     "execution_count": 19,
     "metadata": {},
     "output_type": "execute_result"
    }
   ],
   "source": [
    "units = cache.get_unit_table()\n",
    "\n",
    "print(f\"Total number of units: {len(units)}\")\n",
    "\n",
    "units.head()"
   ]
  },
  {
   "cell_type": "markdown",
   "id": "deafdedb",
   "metadata": {},
   "source": [
    "This table provides metadata on the units identified in this data release. Quoting the [Visual Coding Neuropixels documentation](https://allensdk.readthedocs.io/en/latest/visual_coding_neuropixels.html)\n",
    "\n",
    "\n",
    ">Throughout the SDK, we refer to neurons as “units,” because we cannot guarantee that all the spikes assigned to one unit actually originate from a single cell. Unlike in two-photon imaging, where you can visualize each neuron throughout the entire experiment, with electrophysiology we can only “see” a neuron when it fires a spike. If a neuron moves relative to the probe, or if it’s far away from the probe, some of its spikes may get mixed together with those from other neurons. Because of this inherent ambiguity, we provide a variety of quality metrics to allow you to find the right units for your analysis. Even highly contaminated units contain potentially valuable information about brain states, so we didn’t want to leave them out of the dataset. But certain types of analysis require more stringent quality thresholds, to ensure that all of the included units are well isolated from their neighbors.\n",
    "\n",
    "Units are identified by a unique `unit_id` and can be associated to channels, probes, and sessions via `ecephys_channel_id`, `ecephys_probe_id` and `ecephys_session_id`."
   ]
  },
  {
   "cell_type": "markdown",
   "id": "7c1fd9aa",
   "metadata": {},
   "source": [
    "### Using the AllenSDK to access Visual Behavior Neuropixels data\n",
    "\n",
    "After looking through the metadata for the data release, let's say you want to access information about a specific ecephys session (ecephys_session_id=1052533639)\n",
    "\n",
    "The following command will download the NWB file associated with a specific `ecephys_session_id` (unless it has been previously downloaded into this cache) and load it into a python object for manipulation and inspection.\n",
    "\n",
    "**Note:** each NWB file associated with an ecephys esssion is approximately 2GB in size."
   ]
  },
  {
   "cell_type": "code",
   "execution_count": 20,
   "id": "316205f8",
   "metadata": {},
   "outputs": [
    {
     "name": "stderr",
     "output_type": "stream",
     "text": [
      "/Users/kiracordes/opt/anaconda3/lib/python3.7/site-packages/hdmf/spec/namespace.py:532: UserWarning: Ignoring cached namespace 'core' version 2.4.0 because version 2.5.0 is already loaded.\n",
      "  % (ns['name'], ns['version'], self.__namespaces.get(ns['name'])['version']))\n"
     ]
    }
   ],
   "source": [
    "ecephys_session = cache.get_ecephys_session(ecephys_session_id=1052533639)"
   ]
  },
  {
   "cell_type": "code",
   "execution_count": 23,
   "id": "3b1e8c57",
   "metadata": {},
   "outputs": [
    {
     "name": "stdout",
     "output_type": "stream",
     "text": [
      "['behavior_data_class', 'behavior_session_id', 'eye_tracking', 'eye_tracking_rig_geometry', 'get_channels', 'get_performance_metrics', 'get_reward_rate', 'get_rolling_performance_df', 'get_units', 'licks', 'mean_waveforms', 'metadata', 'optotagging_table', 'probes', 'raw_running_speed', 'rewards', 'running_speed', 'spike_amplitudes', 'spike_times', 'stimulus_presentations', 'stimulus_templates', 'stimulus_timestamps', 'task_parameters', 'trials']\n"
     ]
    }
   ],
   "source": [
    "# List methods of the session that can be used to get data\n",
    "print(ecephys_session.list_data_attributes_and_methods())"
   ]
  },
  {
   "cell_type": "code",
   "execution_count": 24,
   "id": "8a46d0f3",
   "metadata": {},
   "outputs": [
    {
     "data": {
      "text/plain": [
       "{'equipment_name': 'NP.1',\n",
       " 'sex': 'M',\n",
       " 'age_in_days': 149,\n",
       " 'stimulus_frame_rate': 60.0,\n",
       " 'session_type': 'EPHYS_1_images_H_3uL_reward',\n",
       " 'date_of_acquisition': datetime.datetime(2020, 9, 24, 22, 12, 13, tzinfo=tzutc()),\n",
       " 'reporter_line': 'Ai32(RCL-ChR2(H134R)_EYFP)',\n",
       " 'cre_line': 'Vip-IRES-Cre',\n",
       " 'behavior_session_uuid': None,\n",
       " 'driver_line': ['Vip-IRES-Cre'],\n",
       " 'mouse_id': 530862,\n",
       " 'full_genotype': 'Vip-IRES-Cre/wt;Ai32(RCL-ChR2(H134R)_EYFP)/wt',\n",
       " 'behavior_session_id': 1052572359,\n",
       " 'ecephys_session_id': 1052533639}"
      ]
     },
     "execution_count": 24,
     "metadata": {},
     "output_type": "execute_result"
    }
   ],
   "source": [
    "ecephys_session.metadata"
   ]
  },
  {
   "cell_type": "code",
   "execution_count": 63,
   "id": "4a51c457",
   "metadata": {},
   "outputs": [
    {
     "data": {
      "text/plain": [
       "0        37.72069\n",
       "1        50.49799\n",
       "2        73.75094\n",
       "3        89.08023\n",
       "4       131.91593\n",
       "          ...    \n",
       "168    3512.62841\n",
       "169    3520.18423\n",
       "170    3530.70982\n",
       "171    3545.70564\n",
       "172    3631.27766\n",
       "Name: timestamps, Length: 173, dtype: float64"
      ]
     },
     "execution_count": 63,
     "metadata": {},
     "output_type": "execute_result"
    }
   ],
   "source": [
    "ecephys_session.rewards.timestamps"
   ]
  },
  {
   "cell_type": "code",
   "execution_count": 91,
   "id": "98787f49",
   "metadata": {},
   "outputs": [],
   "source": [
    "sh = ecephys_session.stimulus_timestamps.shape"
   ]
  },
  {
   "cell_type": "code",
   "execution_count": 92,
   "id": "fdb927be",
   "metadata": {},
   "outputs": [
    {
     "data": {
      "text/plain": [
       "array([  25.29592,   25.30918,   25.32572, ..., 8801.0844 , 8801.10114,\n",
       "       8801.11782])"
      ]
     },
     "execution_count": 92,
     "metadata": {},
     "output_type": "execute_result"
    }
   ],
   "source": [
    "ecephys_session.stimulus_timestamps"
   ]
  },
  {
   "cell_type": "code",
   "execution_count": 124,
   "id": "eea3e6b4",
   "metadata": {},
   "outputs": [
    {
     "ename": "TypeError",
     "evalue": "'other' must be an instance of matplotlib.axes._base._AxesBase, not a numpy.ndarray",
     "output_type": "error",
     "traceback": [
      "\u001b[0;31m---------------------------------------------------------------------------\u001b[0m",
      "\u001b[0;31mTypeError\u001b[0m                                 Traceback (most recent call last)",
      "\u001b[0;32m/var/folders/h2/79sgc4qn5h1fb0t862bcr9nr0000gp/T/ipykernel_12599/4255236487.py\u001b[0m in \u001b[0;36m<module>\u001b[0;34m\u001b[0m\n\u001b[1;32m     13\u001b[0m \u001b[0max\u001b[0m \u001b[0;34m=\u001b[0m \u001b[0mplt\u001b[0m\u001b[0;34m.\u001b[0m\u001b[0mplot\u001b[0m\u001b[0;34m(\u001b[0m\u001b[0mx\u001b[0m\u001b[0;34m,\u001b[0m \u001b[0my\u001b[0m\u001b[0;34m)\u001b[0m\u001b[0;34m\u001b[0m\u001b[0;34m\u001b[0m\u001b[0m\n\u001b[1;32m     14\u001b[0m \u001b[0;34m\u001b[0m\u001b[0m\n\u001b[0;32m---> 15\u001b[0;31m \u001b[0max0\u001b[0m \u001b[0;34m=\u001b[0m \u001b[0mplt\u001b[0m\u001b[0;34m.\u001b[0m\u001b[0msubplot\u001b[0m\u001b[0;34m(\u001b[0m\u001b[0mgs1\u001b[0m\u001b[0;34m[\u001b[0m\u001b[0;36m0\u001b[0m\u001b[0;34m,\u001b[0m\u001b[0;36m0\u001b[0m\u001b[0;34m]\u001b[0m\u001b[0;34m,\u001b[0m \u001b[0msharex\u001b[0m \u001b[0;34m=\u001b[0m \u001b[0mx\u001b[0m\u001b[0;34m)\u001b[0m\u001b[0;34m\u001b[0m\u001b[0;34m\u001b[0m\u001b[0m\n\u001b[0m\u001b[1;32m     16\u001b[0m \u001b[0max0\u001b[0m\u001b[0;34m.\u001b[0m\u001b[0mset_yscale\u001b[0m\u001b[0;34m(\u001b[0m\u001b[0;34m\"linear\"\u001b[0m\u001b[0;34m)\u001b[0m\u001b[0;34m\u001b[0m\u001b[0;34m\u001b[0m\u001b[0m\n\u001b[1;32m     17\u001b[0m \u001b[0mline0\u001b[0m\u001b[0;34m,\u001b[0m \u001b[0;34m=\u001b[0m \u001b[0max0\u001b[0m\u001b[0;34m.\u001b[0m\u001b[0mscatter\u001b[0m\u001b[0;34m(\u001b[0m\u001b[0mecephys_session\u001b[0m\u001b[0;34m.\u001b[0m\u001b[0mstimulus_timestamps\u001b[0m\u001b[0;34m,\u001b[0m \u001b[0;34m[\u001b[0m\u001b[0;36m0\u001b[0m\u001b[0;34m]\u001b[0m\u001b[0;34m*\u001b[0m\u001b[0msh\u001b[0m\u001b[0;34m[\u001b[0m\u001b[0;36m0\u001b[0m\u001b[0;34m]\u001b[0m\u001b[0;34m,\u001b[0m \u001b[0mcolor\u001b[0m\u001b[0;34m=\u001b[0m\u001b[0;34m'r'\u001b[0m\u001b[0;34m,\u001b[0m \u001b[0mmarker\u001b[0m\u001b[0;34m=\u001b[0m\u001b[0;34m'|'\u001b[0m\u001b[0;34m)\u001b[0m\u001b[0;34m\u001b[0m\u001b[0;34m\u001b[0m\u001b[0m\n",
      "\u001b[0;32m~/opt/anaconda3/lib/python3.7/site-packages/matplotlib/pyplot.py\u001b[0m in \u001b[0;36msubplot\u001b[0;34m(*args, **kwargs)\u001b[0m\n\u001b[1;32m   1285\u001b[0m     \u001b[0;32melse\u001b[0m\u001b[0;34m:\u001b[0m\u001b[0;34m\u001b[0m\u001b[0;34m\u001b[0m\u001b[0m\n\u001b[1;32m   1286\u001b[0m         \u001b[0;31m# we have exhausted the known Axes and none match, make a new one!\u001b[0m\u001b[0;34m\u001b[0m\u001b[0;34m\u001b[0m\u001b[0;34m\u001b[0m\u001b[0m\n\u001b[0;32m-> 1287\u001b[0;31m         \u001b[0max\u001b[0m \u001b[0;34m=\u001b[0m \u001b[0mfig\u001b[0m\u001b[0;34m.\u001b[0m\u001b[0madd_subplot\u001b[0m\u001b[0;34m(\u001b[0m\u001b[0;34m*\u001b[0m\u001b[0margs\u001b[0m\u001b[0;34m,\u001b[0m \u001b[0;34m**\u001b[0m\u001b[0mkwargs\u001b[0m\u001b[0;34m)\u001b[0m\u001b[0;34m\u001b[0m\u001b[0;34m\u001b[0m\u001b[0m\n\u001b[0m\u001b[1;32m   1288\u001b[0m \u001b[0;34m\u001b[0m\u001b[0m\n\u001b[1;32m   1289\u001b[0m     \u001b[0mfig\u001b[0m\u001b[0;34m.\u001b[0m\u001b[0msca\u001b[0m\u001b[0;34m(\u001b[0m\u001b[0max\u001b[0m\u001b[0;34m)\u001b[0m\u001b[0;34m\u001b[0m\u001b[0;34m\u001b[0m\u001b[0m\n",
      "\u001b[0;32m~/opt/anaconda3/lib/python3.7/site-packages/matplotlib/figure.py\u001b[0m in \u001b[0;36madd_subplot\u001b[0;34m(self, *args, **kwargs)\u001b[0m\n\u001b[1;32m    779\u001b[0m             projection_class, pkw = self._process_projection_requirements(\n\u001b[1;32m    780\u001b[0m                 *args, **kwargs)\n\u001b[0;32m--> 781\u001b[0;31m             \u001b[0max\u001b[0m \u001b[0;34m=\u001b[0m \u001b[0msubplot_class_factory\u001b[0m\u001b[0;34m(\u001b[0m\u001b[0mprojection_class\u001b[0m\u001b[0;34m)\u001b[0m\u001b[0;34m(\u001b[0m\u001b[0mself\u001b[0m\u001b[0;34m,\u001b[0m \u001b[0;34m*\u001b[0m\u001b[0margs\u001b[0m\u001b[0;34m,\u001b[0m \u001b[0;34m**\u001b[0m\u001b[0mpkw\u001b[0m\u001b[0;34m)\u001b[0m\u001b[0;34m\u001b[0m\u001b[0;34m\u001b[0m\u001b[0m\n\u001b[0m\u001b[1;32m    782\u001b[0m             \u001b[0mkey\u001b[0m \u001b[0;34m=\u001b[0m \u001b[0;34m(\u001b[0m\u001b[0mprojection_class\u001b[0m\u001b[0;34m,\u001b[0m \u001b[0mpkw\u001b[0m\u001b[0;34m)\u001b[0m\u001b[0;34m\u001b[0m\u001b[0;34m\u001b[0m\u001b[0m\n\u001b[1;32m    783\u001b[0m         \u001b[0;32mreturn\u001b[0m \u001b[0mself\u001b[0m\u001b[0;34m.\u001b[0m\u001b[0m_add_axes_internal\u001b[0m\u001b[0;34m(\u001b[0m\u001b[0max\u001b[0m\u001b[0;34m,\u001b[0m \u001b[0mkey\u001b[0m\u001b[0;34m)\u001b[0m\u001b[0;34m\u001b[0m\u001b[0;34m\u001b[0m\u001b[0m\n",
      "\u001b[0;32m~/opt/anaconda3/lib/python3.7/site-packages/matplotlib/axes/_subplots.py\u001b[0m in \u001b[0;36m__init__\u001b[0;34m(self, fig, *args, **kwargs)\u001b[0m\n\u001b[1;32m     34\u001b[0m         \"\"\"\n\u001b[1;32m     35\u001b[0m         \u001b[0;31m# _axes_class is set in the subplot_class_factory\u001b[0m\u001b[0;34m\u001b[0m\u001b[0;34m\u001b[0m\u001b[0;34m\u001b[0m\u001b[0m\n\u001b[0;32m---> 36\u001b[0;31m         \u001b[0mself\u001b[0m\u001b[0;34m.\u001b[0m\u001b[0m_axes_class\u001b[0m\u001b[0;34m.\u001b[0m\u001b[0m__init__\u001b[0m\u001b[0;34m(\u001b[0m\u001b[0mself\u001b[0m\u001b[0;34m,\u001b[0m \u001b[0mfig\u001b[0m\u001b[0;34m,\u001b[0m \u001b[0;34m[\u001b[0m\u001b[0;36m0\u001b[0m\u001b[0;34m,\u001b[0m \u001b[0;36m0\u001b[0m\u001b[0;34m,\u001b[0m \u001b[0;36m1\u001b[0m\u001b[0;34m,\u001b[0m \u001b[0;36m1\u001b[0m\u001b[0;34m]\u001b[0m\u001b[0;34m,\u001b[0m \u001b[0;34m**\u001b[0m\u001b[0mkwargs\u001b[0m\u001b[0;34m)\u001b[0m\u001b[0;34m\u001b[0m\u001b[0;34m\u001b[0m\u001b[0m\n\u001b[0m\u001b[1;32m     37\u001b[0m         \u001b[0;31m# This will also update the axes position.\u001b[0m\u001b[0;34m\u001b[0m\u001b[0;34m\u001b[0m\u001b[0;34m\u001b[0m\u001b[0m\n\u001b[1;32m     38\u001b[0m         \u001b[0mself\u001b[0m\u001b[0;34m.\u001b[0m\u001b[0mset_subplotspec\u001b[0m\u001b[0;34m(\u001b[0m\u001b[0mSubplotSpec\u001b[0m\u001b[0;34m.\u001b[0m\u001b[0m_from_subplot_args\u001b[0m\u001b[0;34m(\u001b[0m\u001b[0mfig\u001b[0m\u001b[0;34m,\u001b[0m \u001b[0margs\u001b[0m\u001b[0;34m)\u001b[0m\u001b[0;34m)\u001b[0m\u001b[0;34m\u001b[0m\u001b[0;34m\u001b[0m\u001b[0m\n",
      "\u001b[0;32m~/opt/anaconda3/lib/python3.7/site-packages/matplotlib/_api/deprecation.py\u001b[0m in \u001b[0;36mwrapper\u001b[0;34m(*args, **kwargs)\u001b[0m\n\u001b[1;32m    469\u001b[0m                 \u001b[0;34m\"parameter will become keyword-only %(removal)s.\"\u001b[0m\u001b[0;34m,\u001b[0m\u001b[0;34m\u001b[0m\u001b[0;34m\u001b[0m\u001b[0m\n\u001b[1;32m    470\u001b[0m                 name=name, obj_type=f\"parameter of {func.__name__}()\")\n\u001b[0;32m--> 471\u001b[0;31m         \u001b[0;32mreturn\u001b[0m \u001b[0mfunc\u001b[0m\u001b[0;34m(\u001b[0m\u001b[0;34m*\u001b[0m\u001b[0margs\u001b[0m\u001b[0;34m,\u001b[0m \u001b[0;34m**\u001b[0m\u001b[0mkwargs\u001b[0m\u001b[0;34m)\u001b[0m\u001b[0;34m\u001b[0m\u001b[0;34m\u001b[0m\u001b[0m\n\u001b[0m\u001b[1;32m    472\u001b[0m \u001b[0;34m\u001b[0m\u001b[0m\n\u001b[1;32m    473\u001b[0m     \u001b[0;32mreturn\u001b[0m \u001b[0mwrapper\u001b[0m\u001b[0;34m\u001b[0m\u001b[0;34m\u001b[0m\u001b[0m\n",
      "\u001b[0;32m~/opt/anaconda3/lib/python3.7/site-packages/matplotlib/axes/_base.py\u001b[0m in \u001b[0;36m__init__\u001b[0;34m(self, fig, rect, facecolor, frameon, sharex, sharey, label, xscale, yscale, box_aspect, **kwargs)\u001b[0m\n\u001b[1;32m    632\u001b[0m \u001b[0;34m\u001b[0m\u001b[0m\n\u001b[1;32m    633\u001b[0m         \u001b[0mself\u001b[0m\u001b[0;34m.\u001b[0m\u001b[0m_rasterization_zorder\u001b[0m \u001b[0;34m=\u001b[0m \u001b[0;32mNone\u001b[0m\u001b[0;34m\u001b[0m\u001b[0;34m\u001b[0m\u001b[0m\n\u001b[0;32m--> 634\u001b[0;31m         \u001b[0mself\u001b[0m\u001b[0;34m.\u001b[0m\u001b[0mcla\u001b[0m\u001b[0;34m(\u001b[0m\u001b[0;34m)\u001b[0m\u001b[0;34m\u001b[0m\u001b[0;34m\u001b[0m\u001b[0m\n\u001b[0m\u001b[1;32m    635\u001b[0m \u001b[0;34m\u001b[0m\u001b[0m\n\u001b[1;32m    636\u001b[0m         \u001b[0;31m# funcs used to format x and y - fall back on major formatters\u001b[0m\u001b[0;34m\u001b[0m\u001b[0;34m\u001b[0m\u001b[0;34m\u001b[0m\u001b[0m\n",
      "\u001b[0;32m~/opt/anaconda3/lib/python3.7/site-packages/matplotlib/axes/_base.py\u001b[0m in \u001b[0;36mcla\u001b[0;34m(self)\u001b[0m\n\u001b[1;32m   1193\u001b[0m \u001b[0;34m\u001b[0m\u001b[0m\n\u001b[1;32m   1194\u001b[0m         \u001b[0;32mif\u001b[0m \u001b[0mself\u001b[0m\u001b[0;34m.\u001b[0m\u001b[0m_sharex\u001b[0m \u001b[0;32mis\u001b[0m \u001b[0;32mnot\u001b[0m \u001b[0;32mNone\u001b[0m\u001b[0;34m:\u001b[0m\u001b[0;34m\u001b[0m\u001b[0;34m\u001b[0m\u001b[0m\n\u001b[0;32m-> 1195\u001b[0;31m             \u001b[0mself\u001b[0m\u001b[0;34m.\u001b[0m\u001b[0msharex\u001b[0m\u001b[0;34m(\u001b[0m\u001b[0mself\u001b[0m\u001b[0;34m.\u001b[0m\u001b[0m_sharex\u001b[0m\u001b[0;34m)\u001b[0m\u001b[0;34m\u001b[0m\u001b[0;34m\u001b[0m\u001b[0m\n\u001b[0m\u001b[1;32m   1196\u001b[0m         \u001b[0;32melse\u001b[0m\u001b[0;34m:\u001b[0m\u001b[0;34m\u001b[0m\u001b[0;34m\u001b[0m\u001b[0m\n\u001b[1;32m   1197\u001b[0m             \u001b[0mself\u001b[0m\u001b[0;34m.\u001b[0m\u001b[0mxaxis\u001b[0m\u001b[0;34m.\u001b[0m\u001b[0m_set_scale\u001b[0m\u001b[0;34m(\u001b[0m\u001b[0;34m'linear'\u001b[0m\u001b[0;34m)\u001b[0m\u001b[0;34m\u001b[0m\u001b[0;34m\u001b[0m\u001b[0m\n",
      "\u001b[0;32m~/opt/anaconda3/lib/python3.7/site-packages/matplotlib/axes/_base.py\u001b[0m in \u001b[0;36msharex\u001b[0;34m(self, other)\u001b[0m\n\u001b[1;32m   1140\u001b[0m         \u001b[0manother\u001b[0m \u001b[0maxes\u001b[0m\u001b[0;34m.\u001b[0m\u001b[0;34m\u001b[0m\u001b[0;34m\u001b[0m\u001b[0m\n\u001b[1;32m   1141\u001b[0m         \"\"\"\n\u001b[0;32m-> 1142\u001b[0;31m         \u001b[0m_api\u001b[0m\u001b[0;34m.\u001b[0m\u001b[0mcheck_isinstance\u001b[0m\u001b[0;34m(\u001b[0m\u001b[0m_AxesBase\u001b[0m\u001b[0;34m,\u001b[0m \u001b[0mother\u001b[0m\u001b[0;34m=\u001b[0m\u001b[0mother\u001b[0m\u001b[0;34m)\u001b[0m\u001b[0;34m\u001b[0m\u001b[0;34m\u001b[0m\u001b[0m\n\u001b[0m\u001b[1;32m   1143\u001b[0m         \u001b[0;32mif\u001b[0m \u001b[0mself\u001b[0m\u001b[0;34m.\u001b[0m\u001b[0m_sharex\u001b[0m \u001b[0;32mis\u001b[0m \u001b[0;32mnot\u001b[0m \u001b[0;32mNone\u001b[0m \u001b[0;32mand\u001b[0m \u001b[0mother\u001b[0m \u001b[0;32mis\u001b[0m \u001b[0;32mnot\u001b[0m \u001b[0mself\u001b[0m\u001b[0;34m.\u001b[0m\u001b[0m_sharex\u001b[0m\u001b[0;34m:\u001b[0m\u001b[0;34m\u001b[0m\u001b[0;34m\u001b[0m\u001b[0m\n\u001b[1;32m   1144\u001b[0m             \u001b[0;32mraise\u001b[0m \u001b[0mValueError\u001b[0m\u001b[0;34m(\u001b[0m\u001b[0;34m\"x-axis is already shared\"\u001b[0m\u001b[0;34m)\u001b[0m\u001b[0;34m\u001b[0m\u001b[0;34m\u001b[0m\u001b[0m\n",
      "\u001b[0;32m~/opt/anaconda3/lib/python3.7/site-packages/matplotlib/_api/__init__.py\u001b[0m in \u001b[0;36mcheck_isinstance\u001b[0;34m(_types, **kwargs)\u001b[0m\n\u001b[1;32m     95\u001b[0m                     \u001b[0;34m\", \"\u001b[0m\u001b[0;34m.\u001b[0m\u001b[0mjoin\u001b[0m\u001b[0;34m(\u001b[0m\u001b[0mnames\u001b[0m\u001b[0;34m[\u001b[0m\u001b[0;34m:\u001b[0m\u001b[0;34m-\u001b[0m\u001b[0;36m1\u001b[0m\u001b[0;34m]\u001b[0m\u001b[0;34m)\u001b[0m \u001b[0;34m+\u001b[0m \u001b[0;34m\" or \"\u001b[0m \u001b[0;34m+\u001b[0m \u001b[0mnames\u001b[0m\u001b[0;34m[\u001b[0m\u001b[0;34m-\u001b[0m\u001b[0;36m1\u001b[0m\u001b[0;34m]\u001b[0m\u001b[0;34m\u001b[0m\u001b[0;34m\u001b[0m\u001b[0m\n\u001b[1;32m     96\u001b[0m                     \u001b[0;32mif\u001b[0m \u001b[0mlen\u001b[0m\u001b[0;34m(\u001b[0m\u001b[0mnames\u001b[0m\u001b[0;34m)\u001b[0m \u001b[0;34m>\u001b[0m \u001b[0;36m1\u001b[0m \u001b[0;32melse\u001b[0m \u001b[0mnames\u001b[0m\u001b[0;34m[\u001b[0m\u001b[0;36m0\u001b[0m\u001b[0;34m]\u001b[0m\u001b[0;34m,\u001b[0m\u001b[0;34m\u001b[0m\u001b[0;34m\u001b[0m\u001b[0m\n\u001b[0;32m---> 97\u001b[0;31m                     type_name(type(v))))\n\u001b[0m\u001b[1;32m     98\u001b[0m \u001b[0;34m\u001b[0m\u001b[0m\n\u001b[1;32m     99\u001b[0m \u001b[0;34m\u001b[0m\u001b[0m\n",
      "\u001b[0;31mTypeError\u001b[0m: 'other' must be an instance of matplotlib.axes._base._AxesBase, not a numpy.ndarray"
     ]
    },
    {
     "data": {
      "image/png": "[encoded data removed]",
      "text/plain": [
       "<Figure size 800x320 with 1 Axes>"
      ]
     },
     "metadata": {
      "needs_background": "light"
     },
     "output_type": "display_data"
    }
   ],
   "source": [
    "import numpy as np\n",
    "from matplotlib import gridspec as gs\n",
    "fig1 = plt.figure(figsize=(10,4),dpi=80)\n",
    "\n",
    "x = np.linspace(1990, 2600, 7)\n",
    "#print(x)\n",
    "#x = ecephys_session.stimulus_timestamps\n",
    "y = np.sin(x ** 2)\n",
    "#y= [0] * sh[0]\n",
    "\n",
    "gs1 = gs.GridSpec(2,1)\n",
    "\n",
    "ax = plt.plot(x, y)\n",
    "\n",
    "ax0 = plt.subplot(gs1[0,0], sharex = x)\n",
    "ax0.set_yscale(\"linear\")\n",
    "line0, = ax0.scatter(ecephys_session.stimulus_timestamps, [0]*sh[0], color='r', marker='|')\n",
    "\n",
    "# the second subplot\n",
    "# shared axis X\n",
    "ax1 = plt.subplot(gs1[1], sharex = x)\n",
    "line1, = ax1.plot(ecephys_session.rewards.timestamps, [0]*ecephys_session.rewards.timestamps.shape[0], color='b', linestyle='none', marker='|')\n",
    "\n",
    "# remove vertical gap between subplots\n",
    "plt.subplots_adjust(hspace=.0)\n",
    "plt.show()"
   ]
  },
  {
   "cell_type": "code",
   "execution_count": 105,
   "id": "09f54996",
   "metadata": {},
   "outputs": [
    {
     "data": {
      "image/png": "[encoded data removed]",
      "text/plain": [
       "<Figure size 432x288 with 1 Axes>"
      ]
     },
     "metadata": {
      "needs_background": "light"
     },
     "output_type": "display_data"
    },
    {
     "data": {
      "image/png": "[encoded data removed]",
      "text/plain": [
       "<Figure size 432x288 with 1 Axes>"
      ]
     },
     "metadata": {
      "needs_background": "light"
     },
     "output_type": "display_data"
    }
   ],
   "source": [
    "\n",
    "\n",
    "#x = np.ndarray(shape=(524124,) range(1,5))\n",
    "#print(x)\n",
    "#plt.plot(ecephys_session.stimulus_timestamps,x, label='stimuli')\n",
    "#plt.plot(ecephys_session.rewards.timestamps, label='rewards')\n",
    "#plt.xlabel('time')\n",
    "plt.scatter(ecephys_session.stimulus_timestamps, [0] * sh[0],marker='|')\n",
    "plt.figure()\n",
    "plt.scatter(ecephys_session.rewards.timestamps, [1] * ecephys_session.rewards.timestamps.shape[0], marker='|')\n",
    "plt.show()"
   ]
  },
  {
   "cell_type": "markdown",
   "id": "2f600c35",
   "metadata": {},
   "source": [
    "Let's try viewing one of the visual stimuli presented to the mouse during the behavior session we downloaded:"
   ]
  },
  {
   "cell_type": "code",
   "execution_count": 55,
   "id": "5a4f0010",
   "metadata": {},
   "outputs": [
    {
     "data": {
      "text/plain": [
       "(8, 2)"
      ]
     },
     "execution_count": 55,
     "metadata": {},
     "output_type": "execute_result"
    }
   ],
   "source": [
    "ecephys_session.stimulus_templates.shape"
   ]
  },
  {
   "cell_type": "code",
   "execution_count": 18,
   "id": "04fa8cec",
   "metadata": {},
   "outputs": [
    {
     "data": {
      "text/html": [
       "<div>\n",
       "<style scoped>\n",
       "    .dataframe tbody tr th:only-of-type {\n",
       "        vertical-align: middle;\n",
       "    }\n",
       "\n",
       "    .dataframe tbody tr th {\n",
       "        vertical-align: top;\n",
       "    }\n",
       "\n",
       "    .dataframe thead th {\n",
       "        text-align: right;\n",
       "    }\n",
       "</style>\n",
       "<table border=\"1\" class=\"dataframe\">\n",
       "  <thead>\n",
       "    <tr style=\"text-align: right;\">\n",
       "      <th></th>\n",
       "      <th>unwarped</th>\n",
       "      <th>warped</th>\n",
       "    </tr>\n",
       "    <tr>\n",
       "      <th>image_name</th>\n",
       "      <th></th>\n",
       "      <th></th>\n",
       "    </tr>\n",
       "  </thead>\n",
       "  <tbody>\n",
       "    <tr>\n",
       "      <th>im104_r</th>\n",
       "      <td>[[nan, nan, nan, nan, nan, nan, nan, nan, nan,...</td>\n",
       "      <td>[[136, 138, 140, 141, 141, 141, 140, 140, 140,...</td>\n",
       "    </tr>\n",
       "    <tr>\n",
       "      <th>im114_r</th>\n",
       "      <td>[[nan, nan, nan, nan, nan, nan, nan, nan, nan,...</td>\n",
       "      <td>[[193, 190, 192, 194, 190, 182, 175, 173, 174,...</td>\n",
       "    </tr>\n",
       "    <tr>\n",
       "      <th>im083_r</th>\n",
       "      <td>[[nan, nan, nan, nan, nan, nan, nan, nan, nan,...</td>\n",
       "      <td>[[6, 9, 2, 0, 0, 0, 7, 5, 0, 0, 0, 2, 7, 6, 2,...</td>\n",
       "    </tr>\n",
       "    <tr>\n",
       "      <th>im005_r</th>\n",
       "      <td>[[nan, nan, nan, nan, nan, nan, nan, nan, nan,...</td>\n",
       "      <td>[[81, 82, 80, 76, 76, 80, 83, 82, 80, 78, 78, ...</td>\n",
       "    </tr>\n",
       "    <tr>\n",
       "      <th>im087_r</th>\n",
       "      <td>[[nan, nan, nan, nan, nan, nan, nan, nan, nan,...</td>\n",
       "      <td>[[38, 39, 34, 28, 28, 35, 41, 39, 34, 31, 33, ...</td>\n",
       "    </tr>\n",
       "    <tr>\n",
       "      <th>im024_r</th>\n",
       "      <td>[[nan, nan, nan, nan, nan, nan, nan, nan, nan,...</td>\n",
       "      <td>[[19, 21, 15, 8, 8, 17, 23, 22, 15, 11, 14, 19...</td>\n",
       "    </tr>\n",
       "    <tr>\n",
       "      <th>im111_r</th>\n",
       "      <td>[[nan, nan, nan, nan, nan, nan, nan, nan, nan,...</td>\n",
       "      <td>[[53, 55, 50, 44, 45, 51, 56, 56, 52, 49, 50, ...</td>\n",
       "    </tr>\n",
       "    <tr>\n",
       "      <th>im034_r</th>\n",
       "      <td>[[nan, nan, nan, nan, nan, nan, nan, nan, nan,...</td>\n",
       "      <td>[[124, 126, 128, 128, 129, 129, 129, 129, 127,...</td>\n",
       "    </tr>\n",
       "  </tbody>\n",
       "</table>\n",
       "</div>"
      ],
      "text/plain": [
       "                                                     unwarped  \\\n",
       "image_name                                                      \n",
       "im104_r     [[nan, nan, nan, nan, nan, nan, nan, nan, nan,...   \n",
       "im114_r     [[nan, nan, nan, nan, nan, nan, nan, nan, nan,...   \n",
       "im083_r     [[nan, nan, nan, nan, nan, nan, nan, nan, nan,...   \n",
       "im005_r     [[nan, nan, nan, nan, nan, nan, nan, nan, nan,...   \n",
       "im087_r     [[nan, nan, nan, nan, nan, nan, nan, nan, nan,...   \n",
       "im024_r     [[nan, nan, nan, nan, nan, nan, nan, nan, nan,...   \n",
       "im111_r     [[nan, nan, nan, nan, nan, nan, nan, nan, nan,...   \n",
       "im034_r     [[nan, nan, nan, nan, nan, nan, nan, nan, nan,...   \n",
       "\n",
       "                                                       warped  \n",
       "image_name                                                     \n",
       "im104_r     [[136, 138, 140, 141, 141, 141, 140, 140, 140,...  \n",
       "im114_r     [[193, 190, 192, 194, 190, 182, 175, 173, 174,...  \n",
       "im083_r     [[6, 9, 2, 0, 0, 0, 7, 5, 0, 0, 0, 2, 7, 6, 2,...  \n",
       "im005_r     [[81, 82, 80, 76, 76, 80, 83, 82, 80, 78, 78, ...  \n",
       "im087_r     [[38, 39, 34, 28, 28, 35, 41, 39, 34, 31, 33, ...  \n",
       "im024_r     [[19, 21, 15, 8, 8, 17, 23, 22, 15, 11, 14, 19...  \n",
       "im111_r     [[53, 55, 50, 44, 45, 51, 56, 56, 52, 49, 50, ...  \n",
       "im034_r     [[124, 126, 128, 128, 129, 129, 129, 129, 127,...  "
      ]
     },
     "execution_count": 18,
     "metadata": {},
     "output_type": "execute_result"
    }
   ],
   "source": [
    "# Listing the different stimuli templates\n",
    "ecephys_session.stimulus_templates"
   ]
  },
  {
   "cell_type": "code",
   "execution_count": 30,
   "id": "32dde8ff",
   "metadata": {},
   "outputs": [
    {
     "data": {
      "text/plain": [
       "<matplotlib.image.AxesImage at 0x7f84d982ea50>"
      ]
     },
     "execution_count": 30,
     "metadata": {},
     "output_type": "execute_result"
    },
    {
     "data": {
      "image/png": "[encoded data removed]",
      "text/plain": [
       "<Figure size 432x288 with 1 Axes>"
      ]
     },
     "metadata": {
      "needs_background": "light"
     },
     "output_type": "display_data"
    }
   ],
   "source": [
    "# Visualizing a particular stimulus\n",
    "plt.imshow(ecephys_session.stimulus_templates['warped']['im104_r'], cmap='gray')"
   ]
  },
  {
   "cell_type": "code",
   "execution_count": 31,
   "id": "1f0e0e75",
   "metadata": {},
   "outputs": [
    {
     "data": {
      "text/plain": [
       "<matplotlib.image.AxesImage at 0x7f8487bcd710>"
      ]
     },
     "execution_count": 31,
     "metadata": {},
     "output_type": "execute_result"
    },
    {
     "data": {
      "image/png": "[encoded data removed]",
      "text/plain": [
       "<Figure size 432x288 with 3 Axes>"
      ]
     },
     "metadata": {
      "needs_background": "light"
     },
     "output_type": "display_data"
    }
   ],
   "source": [
    "plt.figure()\n",
    "plt.subplot(1,3,1)\n",
    "plt.imshow(ecephys_session.stimulus_templates['warped']['im114_r'], cmap='gray')\n",
    "\n",
    "plt.subplot(1,3,2)\n",
    "plt.imshow(ecephys_session.stimulus_templates['warped']['im083_r'], cmap='gray')\n",
    "\n",
    "plt.subplot(1,3,3)\n",
    "plt.imshow(ecephys_session.stimulus_templates['warped']['im111_r'], cmap='gray')"
   ]
  },
  {
   "cell_type": "code",
   "execution_count": 32,
   "id": "0110f030",
   "metadata": {},
   "outputs": [
    {
     "name": "stdout",
     "output_type": "stream",
     "text": [
      "['behavior_data_class', 'behavior_session_id', 'eye_tracking', 'eye_tracking_rig_geometry', 'get_channels', 'get_performance_metrics', 'get_reward_rate', 'get_rolling_performance_df', 'get_units', 'licks', 'mean_waveforms', 'metadata', 'optotagging_table', 'probes', 'raw_running_speed', 'rewards', 'running_speed', 'spike_amplitudes', 'spike_times', 'stimulus_presentations', 'stimulus_templates', 'stimulus_timestamps', 'task_parameters', 'trials']\n"
     ]
    }
   ],
   "source": [
    "# List methods of the session that can be used to get data\n",
    "print(ecephys_session.list_data_attributes_and_methods())"
   ]
  },
  {
   "cell_type": "code",
   "execution_count": 52,
   "id": "08832df9",
   "metadata": {},
   "outputs": [
    {
     "data": {
      "text/plain": [
       "(6, 5)"
      ]
     },
     "execution_count": 52,
     "metadata": {},
     "output_type": "execute_result"
    }
   ],
   "source": [
    "ecephys_session.probes.shape"
   ]
  },
  {
   "cell_type": "code",
   "execution_count": 53,
   "id": "1c808461",
   "metadata": {},
   "outputs": [
    {
     "data": {
      "text/html": [
       "<div>\n",
       "<style scoped>\n",
       "    .dataframe tbody tr th:only-of-type {\n",
       "        vertical-align: middle;\n",
       "    }\n",
       "\n",
       "    .dataframe tbody tr th {\n",
       "        vertical-align: top;\n",
       "    }\n",
       "\n",
       "    .dataframe thead th {\n",
       "        text-align: right;\n",
       "    }\n",
       "</style>\n",
       "<table border=\"1\" class=\"dataframe\">\n",
       "  <thead>\n",
       "    <tr style=\"text-align: right;\">\n",
       "      <th></th>\n",
       "      <th>name</th>\n",
       "      <th>location</th>\n",
       "      <th>sampling_rate</th>\n",
       "      <th>lfp_sampling_rate</th>\n",
       "      <th>has_lfp_data</th>\n",
       "    </tr>\n",
       "    <tr>\n",
       "      <th>id</th>\n",
       "      <th></th>\n",
       "      <th></th>\n",
       "      <th></th>\n",
       "      <th></th>\n",
       "      <th></th>\n",
       "    </tr>\n",
       "  </thead>\n",
       "  <tbody>\n",
       "    <tr>\n",
       "      <th>1052665036</th>\n",
       "      <td>probeA</td>\n",
       "      <td>See electrode locations</td>\n",
       "      <td>29999.983980</td>\n",
       "      <td>None</td>\n",
       "      <td>False</td>\n",
       "    </tr>\n",
       "    <tr>\n",
       "      <th>1052665037</th>\n",
       "      <td>probeB</td>\n",
       "      <td>See electrode locations</td>\n",
       "      <td>30000.185623</td>\n",
       "      <td>None</td>\n",
       "      <td>False</td>\n",
       "    </tr>\n",
       "    <tr>\n",
       "      <th>1052665038</th>\n",
       "      <td>probeC</td>\n",
       "      <td>See electrode locations</td>\n",
       "      <td>30000.056033</td>\n",
       "      <td>None</td>\n",
       "      <td>False</td>\n",
       "    </tr>\n",
       "    <tr>\n",
       "      <th>1052665039</th>\n",
       "      <td>probeD</td>\n",
       "      <td>See electrode locations</td>\n",
       "      <td>30000.035101</td>\n",
       "      <td>None</td>\n",
       "      <td>False</td>\n",
       "    </tr>\n",
       "    <tr>\n",
       "      <th>1052665040</th>\n",
       "      <td>probeE</td>\n",
       "      <td>See electrode locations</td>\n",
       "      <td>30000.081593</td>\n",
       "      <td>None</td>\n",
       "      <td>False</td>\n",
       "    </tr>\n",
       "    <tr>\n",
       "      <th>1052665041</th>\n",
       "      <td>probeF</td>\n",
       "      <td>See electrode locations</td>\n",
       "      <td>29999.966204</td>\n",
       "      <td>None</td>\n",
       "      <td>False</td>\n",
       "    </tr>\n",
       "  </tbody>\n",
       "</table>\n",
       "</div>"
      ],
      "text/plain": [
       "              name                 location  sampling_rate lfp_sampling_rate  \\\n",
       "id                                                                             \n",
       "1052665036  probeA  See electrode locations   29999.983980              None   \n",
       "1052665037  probeB  See electrode locations   30000.185623              None   \n",
       "1052665038  probeC  See electrode locations   30000.056033              None   \n",
       "1052665039  probeD  See electrode locations   30000.035101              None   \n",
       "1052665040  probeE  See electrode locations   30000.081593              None   \n",
       "1052665041  probeF  See electrode locations   29999.966204              None   \n",
       "\n",
       "            has_lfp_data  \n",
       "id                        \n",
       "1052665036         False  \n",
       "1052665037         False  \n",
       "1052665038         False  \n",
       "1052665039         False  \n",
       "1052665040         False  \n",
       "1052665041         False  "
      ]
     },
     "execution_count": 53,
     "metadata": {},
     "output_type": "execute_result"
    }
   ],
   "source": [
    "ecephys_session.probes"
   ]
  },
  {
   "cell_type": "code",
   "execution_count": null,
   "id": "4e48d147",
   "metadata": {},
   "outputs": [],
   "source": [
    "ecephys_session."
   ]
  },
  {
   "cell_type": "markdown",
   "id": "1a0831ef",
   "metadata": {},
   "source": [
    "As you can see, the `ecephy_session` object has a lot of attributes and methods that can be used to access underlying data in the NWB file. Most of these will be touched on in other tutorials for [this data release](http://portal.brain-map.org/explore/circuits/visual-behavior-neuropixels).\n",
    "\n",
    "Now let's see how to get data for a particular ecephys session:"
   ]
  },
  {
   "cell_type": "markdown",
   "id": "4fcbd1bd",
   "metadata": {},
   "source": [
    "#### Downloading the complete dataset with AllenSDK\n",
    "\n",
    "Analyzing one session or experiment at a time is nice, but in some cases you'll want to be able to perform an analysis across the whole dataset. To fill your cache with all available data, you can use a for loop like the one below.\n",
    "\n",
    "Before running this code, please make sure that you have enough space available in your cache directory. You'll need around 524 GB for to contain all of the NWB files."
   ]
  },
  {
   "cell_type": "code",
   "execution_count": null,
   "id": "cb91c928",
   "metadata": {},
   "outputs": [],
   "source": [
    "# Remove rows from the behavior sessions table which don't correspond to a behavior session NWB file\n",
    "filtered_ecephys_sessions = ecephys_sessions.dropna(subset=[\"file_id\"])\n",
    "\n",
    "for ecephys_session_id, _ in filtered_ecephys_sessions.iterrows():\n",
    "    cache.get_ecephys_session(ecephys_session_id=ecephys_session_id)\n"
   ]
  },
  {
   "cell_type": "markdown",
   "id": "11d58792",
   "metadata": {},
   "source": [
    "## Direct download of data from S3\n",
    "\n",
    "If you do not wish to obtain data via the AllenSDK `VisualBehaviorNeuropixelsProjectCache` class, this section describes how to directly determine an S3 download link for your file or files of interest.\n",
    "\n",
    "The S3 bucket that stores all the data for this project's release is: \n",
    "<a href='https://visual-behavior-neuropixels-data.s3.us-west-2.amazonaws.com'>https://visual-behavior-neuropixels-data.s3.us-west-2.amazonaws.com</a>\n",
    "\n",
    "The structure of the S3 bucket looks like:\n",
    "\n",
    "```\n",
    "visual-behavior-neuropixels-2022/\n",
    "│\n",
    "├── release_notes.txt\n",
    "│\n",
    "├── manifests/\n",
    "│   ├── visual-behavior-neuropixels_project_manifest_v{a.b.c}.json\n",
    "│   ├── visual-behavior-neuropixels_project_manifest_v{x.y.z}.json\n",
    "│   ...\n",
    "│\n",
    "├── project_metadata/\n",
    "│   ├── ecephys_sessions.csv\n",
    "│   ├── behavior_sessions.csv\n",
    "│   ├── probes.csv\n",
    "│   ├── channels.csv\n",
    "│   ├── units.csv\n",
    "│\n",
    "└── ecephys_sessions/\n",
    "    ├── ecephys_session_{abc}.nwb\n",
    "    ├── ecephys_session_{xyz}.nwb\n",
    "    ...\n",
    "```\n",
    "\n",
    "So if for example, you wanted to download a specific `ecephys_session` you could first download the `ecephys_sessions.csv` with:\n",
    "\n",
    "<a href='https://visual-behavior-neuropixels-data.s3.us-west-2.amazonaws.com/visual-behavior-neuropixels/project_metadata/ecephys_sessions.csv'>https://visual-behavior-neuropixels-data.s3.us-west-2.amazonaws.com/visual-behavior-neuropixels/project_metadata/ecephys_sessions.csv</a> (try clicking me!)\n",
    "\n",
    "Then using the table, determine the `ecephys_session_id` you are interested in. Let's say we want `ecephys_session_id = 1043752325`, then the appropriate download link would be:\n",
    "\n",
    "<a href='https://visual-behavior-neuropixels-data.s3.us-west-2.amazonaws.com/visual-behavior-neuropixels/ecephys_sessions/ecephys_session_1043752325.nwb'>https://visual-behavior-neuropixels-data.s3.us-west-2.amazonaws.com/visual-behavior-neuropixels/ecephys_sessions/ecephys_session_1043752325.nwb</a>\n",
    "\n",
    "Below are some simple sample functions that will help you efficiently determine download URL links:"
   ]
  },
  {
   "cell_type": "code",
   "execution_count": 23,
   "id": "c12a4819",
   "metadata": {},
   "outputs": [
    {
     "name": "stdout",
     "output_type": "stream",
     "text": [
      "https://visual-behavior-neuropixels-data.s3.us-west-2.amazonaws.com/visual-behavior-neuropixels/manifests/visual-behavior-neuropixels_project_manifest_v0.1.0.json\n"
     ]
    }
   ],
   "source": [
    "from urllib.parse import urljoin\n",
    "\n",
    "def get_manifest_url(manifest_version: str) -> str:\n",
    "    hostname = \"https://visual-behavior-neuropixels-data.s3.us-west-2.amazonaws.com\"\n",
    "    object_key = f\"visual-behavior-neuropixels/manifests/visual-behavior-neuropixels_project_manifest_v{manifest_version}.json\"\n",
    "    return urljoin(hostname, object_key)\n",
    "\n",
    "# Example:\n",
    "print(get_manifest_url(\"0.1.0\"))"
   ]
  },
  {
   "cell_type": "code",
   "execution_count": 21,
   "id": "685c9cff",
   "metadata": {},
   "outputs": [
    {
     "name": "stdout",
     "output_type": "stream",
     "text": [
      "https://visual-behavior-neuropixels-data.s3.us-west-2.amazonaws.com/visual-behavior-neuropixels/project_metadata/behavior_sessions.csv\n"
     ]
    }
   ],
   "source": [
    "def get_metadata_url(metadata_table_name: str) -> str:\n",
    "    hostname = \"https://visual-behavior-neuropixels-data.s3.us-west-2.amazonaws.com\"\n",
    "    object_key = f\"visual-behavior-neuropixels/project_metadata/{metadata_table_name}.csv\"\n",
    "    return urljoin(hostname, object_key)\n",
    "\n",
    "# Example:\n",
    "print(get_metadata_url(\"behavior_sessions\"))"
   ]
  },
  {
   "cell_type": "code",
   "execution_count": 22,
   "id": "e1d07772",
   "metadata": {},
   "outputs": [
    {
     "name": "stdout",
     "output_type": "stream",
     "text": [
      "https://visual-behavior-neuropixels-data.s3.us-west-2.amazonaws.com/visual-behavior-neuropixels/ecephys_sessions/ecephys_session_1052533639.nwb\n"
     ]
    }
   ],
   "source": [
    "def get_behavior_session_url(ecephys_session_id: int) -> str:\n",
    "    hostname = \"https://visual-behavior-neuropixels-data.s3.us-west-2.amazonaws.com\"\n",
    "    object_key = f\"visual-behavior-neuropixels/ecephys_sessions/ecephys_session_{ecephys_session_id}.nwb\"\n",
    "    return urljoin(hostname, object_key)\n",
    "\n",
    "# Example:\n",
    "print(get_behavior_session_url(1052533639))"
   ]
  },
  {
   "cell_type": "markdown",
   "id": "bb1d746d",
   "metadata": {},
   "source": [
    "## Downloading previous versions of released data from S3\n",
    "\n",
    "AllenSDK makes uses of versioned manifest (JSON) files that live in the S3 bucket to keep track of EVERY version of a file for this data release. If a bug/error in the released data is discovered or new data is added to existing NWB files and the updated NWB file is uploaded in the future, a new manifest will be created pointing to the newest version of the file. The existing manifest will continue pointing at the original version allowing reproducibility of analysis results. You can think of each manifest as a snapshot of the state of the S3 bucket when the manifest was created.\n",
    "\n",
    "This section describes how to download specific versions of a file in the S3 bucket.\n",
    "\n",
    "### Listing and downloading a specific manifest version for the data release\n",
    "\n",
    "If you have an AWS account (even a free tier account works) you can log in and access the bucket directly:\n",
    "\n",
    "<a href='https://s3.console.aws.amazon.com/s3/buckets/visual-behavior-neuropixels-data?prefix=visual-behavior-neuropixels/manifests/'>https://s3.console.aws.amazon.com/s3/buckets/visual-behavior-neuropixels-data?prefix=visual-behavior-neuropixels/manifests/</a>\n",
    "\n",
    "If you don't have or don't want to use an AWS account you can click the following list to get an XML document:\n",
    "\n",
    "<a href='https://s3.console.aws.amazon.com/s3/buckets/visual-behavior-neuropixels-data?list-type=2&prefix=visual-behavior-neuropixels/manifests/'>https://s3.console.aws.amazon.com/s3/buckets/visual-behavior-neuropixels-data?list-type=2&prefix=visual-behavior-neuropixels/manifests/</a>\n",
    "\n",
    "Which will look like:\n",
    "```\n",
    "<ListBucketResult>\n",
    "  <Name>sfd-cloudcache-test-bucket</Name>\n",
    "  <Prefix>visual-behavior-neuropixels/manifests/</Prefix>\n",
    "  <KeyCount>1</KeyCount>\n",
    "  <MaxKeys>1000</MaxKeys>\n",
    "  <IsTruncated>false</IsTruncated>\n",
    "  <Contents>\n",
    "    <Key>\n",
    "    visual-behavior-neuropixels/manifests/visual-behavior-neuropixels-2022_project_manifest_v0.1.0.json\n",
    "    </Key>\n",
    "    <LastModified>2021-03-22T14:36:31.000Z</LastModified>\n",
    "    <ETag>\"8d10d6dd87234d4e0a1d400908c5013d\"</ETag>\n",
    "    <Size>1730897</Size>\n",
    "    <StorageClass>STANDARD</StorageClass>\n",
    "  </Contents>\n",
    "</ListBucketResult>\n",
    "```\n",
    "The XML document is the result of a query which lists all manifests that currently exist for the data release (denoted with `<Key>` `</Key>`). To obtain a specific manifest of interest you just take the `Key` for the manifest you're interested in and append it to the name of the S3 bucket. For example:\n",
    "\n",
    "<a href='https://s3.console.aws.amazon.com/s3/buckets/visual-behavior-neuropixels-data?prefix=visual-behavior-neuropixels/manifests/visual-behavior-neuropixels_project_manifest_v0.1.0.json'>https://s3.console.aws.amazon.com/s3/buckets/visual-behavior-neuropixels-data?prefix=visual-behavior-neuropixels/manifests/visual-behavior-neuropixels_project_manifest_v0.1.0.json</a>\n",
    "\n",
    "\n",
    "### Using a versioned manifest to download a specific data version\n",
    "\n",
    "Once you've downloaded a manifest, you can use it to obtain download links for the specific version of data files that the manifest tracks. The example function below loads a downloaded manifest and generates download links for *all* the metadata and data files for the specified manifest:"
   ]
  },
  {
   "cell_type": "code",
   "execution_count": null,
   "id": "a4dff7f9",
   "metadata": {},
   "outputs": [],
   "source": [
    "from typing import List\n",
    "from urllib.parse import urljoin\n",
    "import json\n",
    "\n",
    "# The location will differ based on where you downloaded the manifest.json!\n",
    "my_manifest_location = data_storage_directory / 'visual-behavior-neuropixels_project_manifest_v0.3.0.json'\n",
    "\n",
    "def generate_all_download_urls_from_manifest(manifest_path: Path) -> List[str]:\n",
    "    with manifest_path.open('r') as fp:\n",
    "        manifest = json.load(fp)\n",
    "    \n",
    "    download_links = []\n",
    "    \n",
    "    # Get download links for specific version of metadata files\n",
    "    for metadata_file_entry in manifest[\"metadata_files\"].values():\n",
    "        base_download_url = metadata_file_entry[\"url\"]\n",
    "        version_query = f\"?versionId={metadata_file_entry['version_id']}\"\n",
    "        full_download_url = urljoin(base_download_url, version_query)\n",
    "        download_links.append(full_download_url)\n",
    "\n",
    "    # Get download links for specific version of data files\n",
    "    for data_file_entry in manifest[\"data_files\"].values():\n",
    "        base_download_url = data_file_entry[\"url\"]\n",
    "        version_query = f\"?versionId={data_file_entry['version_id']}\"\n",
    "        full_download_url = urljoin(base_download_url, version_query)\n",
    "        download_links.append(full_download_url)    \n",
    "\n",
    "    return download_links\n",
    "\n",
    "# Example:\n",
    "print('\\n'.join(generate_all_download_urls_from_manifest(my_manifest_location)))"
   ]
  }
 ],
 "metadata": {
  "interpreter": {
   "hash": "916dbcbb3f70747c44a77c7bcd40155683ae19c65e1c03b4aa3499c5328201f1"
  },
  "kernelspec": {
   "display_name": "Python 3 (ipykernel)",
   "language": "python",
   "name": "python3"
  },
  "language_info": {
   "codemirror_mode": {
    "name": "ipython",
    "version": 3
   },
   "file_extension": ".py",
   "mimetype": "text/x-python",
   "name": "python",
   "nbconvert_exporter": "python",
   "pygments_lexer": "ipython3",
   "version": "3.7.13"
  }
 },
 "nbformat": 4,
 "nbformat_minor": 5
}
