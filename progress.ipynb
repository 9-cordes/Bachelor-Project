{
 "cells": [
  {
   "cell_type": "markdown",
   "id": "51281dfc",
   "metadata": {},
   "source": [
    "# Progress Notes"
   ]
  },
  {
   "cell_type": "code",
   "execution_count": null,
   "id": "b234e5b7",
   "metadata": {},
   "outputs": [],
   "source": []
  },
  {
   "cell_type": "code",
   "execution_count": null,
   "id": "f4f9f919",
   "metadata": {},
   "outputs": [],
   "source": [
    "valid_images = []\n",
    "for im in stimulus_presentations.image_name.unique():\n",
    "    if (im != 'omitted') and (type(im) is not float):\n",
    "        valid_images.append(im)\n",
    "        \n",
    "print(valid_images)"
   ]
  },
  {
   "cell_type": "markdown",
   "id": "447f0d29",
   "metadata": {
    "heading_collapsed": true
   },
   "source": [
    "# tuning curves"
   ]
  },
  {
   "cell_type": "markdown",
   "id": "a515c254",
   "metadata": {
    "heading_collapsed": true,
    "hidden": true
   },
   "source": [
    "#### for pictures time independent"
   ]
  },
  {
   "cell_type": "code",
   "execution_count": null,
   "id": "73c6b69c",
   "metadata": {
    "hidden": true
   },
   "outputs": [],
   "source": [
    "len(valid_images)"
   ]
  },
  {
   "cell_type": "code",
   "execution_count": null,
   "id": "ec7ce5c8",
   "metadata": {
    "hidden": true
   },
   "outputs": [],
   "source": [
    "n = M_good_VISp.shape[0] # number of units\n",
    "\n",
    "tuning = np.zeros((n, len(valid_images)))\n",
    "error = np.zeros(tuning.shape)\n",
    "\n",
    "for i, image in enumerate(valid_images):\n",
    "    same_stimuli_M, _, _ = get_unit_activity_vectors_for_image(image, M_good_VISp, stimulus_presentations)\n",
    "    # print(same_stimuli_M.shape)\n",
    "    mean_spike_cnt = np.mean(same_stimuli_M, axis = 1)\n",
    "    std_spike_cnt = np.std(same_stimuli_M, axis = 1)\n",
    "    tuning[:, i] = mean_spike_cnt\n",
    "    error[:, i] = std_spike_cnt\n",
    "\n",
    "# print(tuning)\n"
   ]
  },
  {
   "cell_type": "code",
   "execution_count": null,
   "id": "6d6b1a34",
   "metadata": {
    "hidden": true
   },
   "outputs": [],
   "source": [
    "plt.plot(tuning[1,:], marker='o')"
   ]
  },
  {
   "cell_type": "code",
   "execution_count": null,
   "id": "b15fab34",
   "metadata": {
    "hidden": true
   },
   "outputs": [],
   "source": [
    "im_shorts = []\n",
    "for image in valid_images:\n",
    "    im_shorts.append(image[2:5])\n",
    "\n",
    "print(im_shorts)"
   ]
  },
  {
   "cell_type": "code",
   "execution_count": null,
   "id": "5783b85a",
   "metadata": {
    "hidden": true
   },
   "outputs": [],
   "source": [
    "fig, axes = plt.subplots(nrows=int(n/4), ncols=4, figsize=(18,18), sharex=True, sharey=True)\n",
    "\n",
    "for i, ax in enumerate(axes.flatten()):\n",
    "    ax.plot(im_shorts, tuning[i,:], alpha=0.9, marker='o', label=f'unit {i}')\n",
    "    ax.fill_between(im_shorts, tuning[i,:]-error[i,:], tuning[i,:]+error[i,:], alpha=0.2)\n",
    "    # ax.set_title(f'unit {i}')\n",
    "    # ax.set_xticks(valid_images)\n",
    "    ax.legend()\n",
    "fig.suptitle(f'tuning curves in VISp', fontsize=20, y=0.9)\n",
    "fig.text(s=f'presented images', fontsize=12, y=0.1, x=0.45)"
   ]
  },
  {
   "cell_type": "code",
   "execution_count": null,
   "id": "8c7d74a0",
   "metadata": {
    "hidden": true
   },
   "outputs": [],
   "source": []
  },
  {
   "cell_type": "markdown",
   "id": "b4ffcac3",
   "metadata": {
    "hidden": true
   },
   "source": [
    "#### time dependent"
   ]
  },
  {
   "cell_type": "code",
   "execution_count": null,
   "id": "7ea0cfb2",
   "metadata": {
    "hidden": true
   },
   "outputs": [],
   "source": [
    "stimulus_presentations[stimulus_presentations['stimulus_block']==0].tail(1)"
   ]
  },
  {
   "cell_type": "code",
   "execution_count": null,
   "id": "e3bfd2df",
   "metadata": {
    "hidden": true
   },
   "outputs": [],
   "source": [
    "stimulus_presentations[stimulus_presentations['start_time']==p_block_start_time].index[0]"
   ]
  },
  {
   "cell_type": "code",
   "execution_count": null,
   "id": "10fde9ea",
   "metadata": {
    "hidden": true
   },
   "outputs": [],
   "source": [
    "first_stimulus_active_block = stimulus_presentations[stimulus_presentations['stimulus_block']==0].head(1)\n",
    "last_stimulus_active_block = stimulus_presentations[stimulus_presentations['stimulus_block']==0].tail(1)\n",
    "a_block_end_time = last_stimulus_active_block.stop_time.values[0]\n",
    "a_block_start_time = first_stimulus_active_block.start_time.values[0] # not needed\n",
    "\n",
    "# passive\n",
    "first_stimulus_passive_block = stimulus_presentations[stimulus_presentations['stimulus_block']==5].head(1)\n",
    "last_stimulus_passive_block = stimulus_presentations[stimulus_presentations['stimulus_block']==5].tail(1)\n",
    "p_block_end_time = last_stimulus_passive_block.stop_time.values[0]\n",
    "p_block_start_time = first_stimulus_passive_block.start_time.values[0] # not needed\n",
    "\n",
    "a_block_start_time, a_block_end_time, p_block_start_time, p_block_end_time, int(p_block_end_time)"
   ]
  },
  {
   "cell_type": "code",
   "execution_count": null,
   "id": "b20fc26e",
   "metadata": {
    "hidden": true
   },
   "outputs": [],
   "source": [
    "m = 0 % (5*60)\n",
    "m, 5*60"
   ]
  },
  {
   "cell_type": "code",
   "execution_count": null,
   "id": "90a7e1ae",
   "metadata": {
    "hidden": true
   },
   "outputs": [],
   "source": [
    "for i in range(int(p_block_start_time) - m, 8898, 5*60):\n",
    "    print(i)"
   ]
  },
  {
   "cell_type": "code",
   "execution_count": null,
   "id": "eb2bf6d8",
   "metadata": {
    "hidden": true
   },
   "outputs": [],
   "source": [
    "a_tuning = tuning_curves_time_dependent(M_good_VISp, stimulus_presentations, a_block_start_time, a_block_end_time, minutes=5)\n",
    "p_tuning = tuning_curves_time_dependent(M_good_VISp, stimulus_presentations, p_block_start_time, p_block_end_time, minutes=5)\n"
   ]
  },
  {
   "cell_type": "code",
   "execution_count": null,
   "id": "874da911",
   "metadata": {
    "hidden": true
   },
   "outputs": [],
   "source": [
    "print(a_tuning[5,:])\n",
    "a_tuning = a_tuning[:, 1:] # remove first element\n",
    "a_tuning[5,:]"
   ]
  },
  {
   "cell_type": "code",
   "execution_count": null,
   "id": "66835ed2",
   "metadata": {
    "hidden": true
   },
   "outputs": [],
   "source": [
    "print(p_tuning[5,:])\n",
    "p_tuning = p_tuning[:, 1:] # remove first element\n",
    "p_tuning[5,:]"
   ]
  },
  {
   "cell_type": "code",
   "execution_count": null,
   "id": "bc17bdf2",
   "metadata": {
    "hidden": true
   },
   "outputs": [],
   "source": []
  },
  {
   "cell_type": "code",
   "execution_count": null,
   "id": "be4311aa",
   "metadata": {
    "hidden": true
   },
   "outputs": [],
   "source": [
    "def plot_tuning_curves_time_dependent(tuning, n):\n",
    "\n",
    "    Cols = 4\n",
    "    Rows = n // Cols \n",
    "\n",
    "    if n % Cols != 0:\n",
    "        Rows += 1\n",
    "\n",
    "    # Create a Position index\n",
    "    Position = range(1, n + 1)\n",
    "    \n",
    "    fig = plt.figure(1, figsize=(18,18))\n",
    "    for k in range(n):\n",
    "        # add every single subplot to the figure with a for loop\n",
    "        ax = fig.add_subplot(Rows, Cols, Position[k])\n",
    "\n",
    "        ax.plot(range(5, 65, 5), tuning[k,:], alpha=0.9, marker='o', label=f'unit {k}')\n",
    "        ax.set_xticks(range(5, 66, 5))\n",
    "        ax.legend()\n",
    "\n",
    "\n",
    "    # fig, axes = plt.subplots(nrows=int(n/4), ncols=4, figsize=(18,18), sharex=True, sharey=True)\n",
    "# \n",
    "    # for i, ax in enumerate(axes.flatten()):\n",
    "    #     ax.plot(range(5, 65, 5), tuning[i,:], alpha=0.9, marker='o', label=f'unit {i}')\n",
    "    #     # ax.fill_between(im_shorts, tuning[i,:]-error[i,:], tuning[i,:]+error[i,:], alpha=0.2)\n",
    "    #     # ax.set_title(f'unit {i}')\n",
    "    #     ax.set_xticks(range(5, 66, 5))\n",
    "    #     ax.legend()\n",
    "    \n",
    "    fig.suptitle(f'tuning curves in VISp', fontsize=20, y=0.9)\n",
    "    fig.text(s=f'time in minutes', fontsize=12, y=0.1, x=0.45)\n",
    "    fig.text(s=f'mean activity', fontsize=12, y=0.5, x=0.1, rotation='vertical')\n"
   ]
  },
  {
   "cell_type": "code",
   "execution_count": null,
   "id": "6b35d911",
   "metadata": {
    "hidden": true
   },
   "outputs": [],
   "source": [
    "n = M_good_VISp.shape[0] # number of units\n",
    "plot_tuning_curves_time_dependent(p_tuning, n)"
   ]
  },
  {
   "cell_type": "code",
   "execution_count": null,
   "id": "1a7bdab6",
   "metadata": {
    "hidden": true
   },
   "outputs": [],
   "source": []
  },
  {
   "cell_type": "code",
   "execution_count": null,
   "id": "570524e1",
   "metadata": {
    "hidden": true
   },
   "outputs": [],
   "source": [
    "def plot_tuning_curves_time_dependent_all_images_layered(tunings, n):\n",
    "    fig, axes = plt.subplots(nrows=int(n/4), ncols=4, figsize=(18,18), sharex=True, sharey=True)\n",
    "\n",
    "    for i, ax in enumerate(axes.flatten()):\n",
    "        for tuning in tunings:\n",
    "            ax.plot(range(5, 65, 5), tuning[i,:], alpha=0.4, marker='o')\n",
    "        # ax.fill_between(im_shorts, tuning[i,:]-error[i,:], tuning[i,:]+error[i,:], alpha=0.2)\n",
    "        # ax.set_title(f'unit {i}')\n",
    "        ax.set_xticks(range(5, 66, 5))\n",
    "        # ax.legend()\n",
    "    fig.suptitle(f'tuning curves in VISp', fontsize=20, y=0.9)\n",
    "    fig.text(s=f'time in minutes', fontsize=12, y=0.1, x=0.45)\n",
    "    fig.text(s=f'mean activity', fontsize=12, y=0.5, x=0.1, rotation='vertical')\n"
   ]
  },
  {
   "cell_type": "code",
   "execution_count": null,
   "id": "cc68714e",
   "metadata": {
    "hidden": true
   },
   "outputs": [],
   "source": [
    "n_images, n_units, n_bins = len(valid_images), M_good_VISp.shape[0], 12\n",
    "\n",
    "all_tunings = np.zeros((n_images, n_units, n_bins))\n"
   ]
  },
  {
   "cell_type": "code",
   "execution_count": null,
   "id": "b34813fd",
   "metadata": {
    "hidden": true
   },
   "outputs": [],
   "source": [
    "all_tunings = np.zeros((n_images, n_units, n_bins))\n",
    "\n",
    "start_ind = stimulus_presentations[stimulus_presentations['start_time']==a_block_start_time].index[0]\n",
    "block_start_time = int(a_block_start_time)\n",
    "block_end_time = int(a_block_end_time)\n",
    "\n",
    "tunings = []\n",
    "for i, image in enumerate(valid_images):\n",
    "    same_stimuli_M, _, _ = get_unit_activity_vectors_for_image(image, M_good_VISp, stimulus_presentations)\n",
    "    sp = stimulus_presentations[stimulus_presentations['image_name']== image]\n",
    "    \n",
    "    tuning = tuning_curves_time_dependent(same_stimuli_M, sp,start_ind, block_start_time, block_end_time, minutes=5)\n",
    "    #print(tuning[5,:])\n",
    "    tuning = tuning[:, 1:] # remove first element\n",
    "    #print(tuning[5,:])\n",
    "    \n",
    "    print('+++')\n",
    "    # print(tuning.shape)\n",
    "    \n",
    "    all_tunings[i, :, :] = tuning\n",
    "    tunings.append(tuning)\n",
    "\n",
    "n = M_good_VISp.shape[0] # number of units"
   ]
  },
  {
   "cell_type": "code",
   "execution_count": null,
   "id": "1f3e336f",
   "metadata": {
    "hidden": true
   },
   "outputs": [],
   "source": [
    "all_tunings.shape"
   ]
  },
  {
   "cell_type": "code",
   "execution_count": null,
   "id": "b2ba0e19",
   "metadata": {
    "hidden": true
   },
   "outputs": [],
   "source": [
    "plot_tuning_curves_time_dependent(all_tunings[4,:,:], n)"
   ]
  },
  {
   "cell_type": "code",
   "execution_count": null,
   "id": "49012b34",
   "metadata": {
    "hidden": true
   },
   "outputs": [],
   "source": [
    "plot_tuning_curves_time_dependent_all_images_layered(tunings, n)"
   ]
  },
  {
   "cell_type": "code",
   "execution_count": null,
   "id": "88e82f50",
   "metadata": {
    "hidden": true
   },
   "outputs": [],
   "source": [
    "plt.imshow(all_tunings[4,:,:])\n",
    "# this view is unnecessary"
   ]
  },
  {
   "cell_type": "code",
   "execution_count": null,
   "id": "339508e6",
   "metadata": {
    "hidden": true
   },
   "outputs": [],
   "source": [
    "plt.imshow(np.transpose(all_tunings[:,4,:]))"
   ]
  },
  {
   "cell_type": "code",
   "execution_count": null,
   "id": "a6d4a441",
   "metadata": {
    "hidden": true
   },
   "outputs": [],
   "source": [
    "def normalize_each_row(arr):\n",
    "    return arr * (1/np.max(arr, axis=1)[:,np.newaxis])"
   ]
  },
  {
   "cell_type": "code",
   "execution_count": null,
   "id": "f1dcc01b",
   "metadata": {
    "hidden": true
   },
   "outputs": [],
   "source": [
    "fig, axs = plt.subplots(5, 7, figsize=(16,12))\n",
    "fig.title = 'aldkönfaä'\n",
    "\n",
    "row = 0\n",
    "column = 0\n",
    "for i in range(all_tunings.shape[1]):\n",
    "    if (i % 7 == 0) and i!=0:\n",
    "        row += 1\n",
    "        column = 0\n",
    "    \n",
    "    # print(row, column, i)\n",
    "    norm = normalize_each_row(np.transpose(all_tunings[:,i,:]))\n",
    "    # im = axs[row, column].imshow(np.transpose(all_tunings[:,i,:]), origin='lower')\n",
    "    im = axs[row, column].imshow(norm, origin='lower')\n",
    "    axs[row, column].set_title(f'{i}')\n",
    "    axs[row, column].set_xlabel('pictures')\n",
    "    axs[row, column].set_ylabel('bins') \n",
    "    column += 1\n",
    "\n",
    "\n",
    "#fig.colorbar(im0, shrink=0.1)"
   ]
  },
  {
   "cell_type": "code",
   "execution_count": null,
   "id": "d36f5b71",
   "metadata": {
    "hidden": true
   },
   "outputs": [],
   "source": [
    "plt.imshow(np.transpose(all_tunings[:,:,3]))"
   ]
  },
  {
   "cell_type": "code",
   "execution_count": null,
   "id": "14126b64",
   "metadata": {
    "hidden": true
   },
   "outputs": [],
   "source": [
    "fig, axs = plt.subplots(1, 12, figsize=(22,8))\n",
    "fig.suptitle = 'aldkönfaä'\n",
    "\n",
    "row = 0\n",
    "column = 0\n",
    "for i in range(all_tunings.shape[2]):\n",
    "    \n",
    "    norm = normalize_each_row(np.transpose(all_tunings[:,:,i]))\n",
    "    im = axs[i].imshow(norm)\n",
    "    # im = axs[row, column].imshow(np.transpose(all_tunings[:,:,i]))\n",
    "    axs[i].set_title(f'{i}')\n",
    "    axs[i].set_xlabel('pictures')\n",
    "    axs[i].set_ylabel('units') \n",
    "\n",
    "\n",
    "#fig.colorbar(im0, shrink=0.1)"
   ]
  },
  {
   "cell_type": "code",
   "execution_count": null,
   "id": "5d4b72bb",
   "metadata": {
    "hidden": true
   },
   "outputs": [],
   "source": []
  },
  {
   "cell_type": "code",
   "execution_count": null,
   "id": "dc258f3a",
   "metadata": {
    "hidden": true
   },
   "outputs": [],
   "source": [
    "image = 'im078_r'\n",
    "same_stimuli_M, _, _ = get_unit_activity_vectors_for_image(image, M_good_VISp, stimulus_presentations)\n",
    "sp = stimulus_presentations[stimulus_presentations['image_name']== image]\n",
    "sp.head()"
   ]
  },
  {
   "cell_type": "code",
   "execution_count": null,
   "id": "3487e938",
   "metadata": {
    "hidden": true
   },
   "outputs": [],
   "source": [
    "tuning = tuning_curves_time_dependent(same_stimuli_M, sp, int(block_end_time), minutes=5)\n",
    "print(tuning[5,:])\n",
    "tuning = tuning[:, 1:] # remove first element\n",
    "print(tuning[5,:])\n",
    "n = same_stimuli_M.shape[0] # number of units"
   ]
  },
  {
   "cell_type": "code",
   "execution_count": null,
   "id": "f1f03202",
   "metadata": {
    "hidden": true
   },
   "outputs": [],
   "source": [
    "plot_tuning_curves_time_dependent(tuning, n)"
   ]
  },
  {
   "cell_type": "code",
   "execution_count": null,
   "id": "a0359e10",
   "metadata": {
    "hidden": true
   },
   "outputs": [],
   "source": []
  },
  {
   "cell_type": "markdown",
   "id": "ca7e4689",
   "metadata": {
    "heading_collapsed": true
   },
   "source": [
    "# z-scoring progress"
   ]
  },
  {
   "cell_type": "code",
   "execution_count": null,
   "id": "cd9e1f6f",
   "metadata": {
    "hidden": true
   },
   "outputs": [],
   "source": [
    "from util_eda import running_speeds_and_pupil_areas\n",
    "import scipy.stats as stats"
   ]
  },
  {
   "cell_type": "code",
   "execution_count": null,
   "id": "354e3a0a",
   "metadata": {
    "hidden": true
   },
   "outputs": [],
   "source": [
    "run_speed, pup_area = running_speeds_and_pupil_areas(stimulus_presentations, running_speed, eye_tracking)"
   ]
  },
  {
   "cell_type": "code",
   "execution_count": null,
   "id": "07fa4bdf",
   "metadata": {
    "hidden": true
   },
   "outputs": [],
   "source": [
    "len(run_speed), len(pup_area), len(stimulus_presentations)"
   ]
  },
  {
   "cell_type": "code",
   "execution_count": null,
   "id": "9fe5f2a2",
   "metadata": {
    "hidden": true
   },
   "outputs": [],
   "source": [
    "z_rt = stats.zscore(run_speed)\n",
    "z_pt = stats.zscore(pup_area)\n",
    "z_rt, len(z_rt), z_pt, len(z_pt)"
   ]
  },
  {
   "cell_type": "code",
   "execution_count": null,
   "id": "0f427319",
   "metadata": {
    "hidden": true
   },
   "outputs": [],
   "source": [
    "z_t = np.array((z_rt, z_pt))\n",
    "z_t = np.transpose(z_t)\n",
    "delta_V = np.linalg.norm(z_t[0] - z_t[0])\n",
    "z_t.shape, z_t[0], z_t[1], delta_V"
   ]
  },
  {
   "cell_type": "code",
   "execution_count": null,
   "id": "54c2a8b0",
   "metadata": {
    "hidden": true
   },
   "outputs": [],
   "source": []
  },
  {
   "cell_type": "markdown",
   "id": "005b2655",
   "metadata": {
    "heading_collapsed": true
   },
   "source": [
    "# reward (amount of liquid)"
   ]
  },
  {
   "cell_type": "code",
   "execution_count": null,
   "id": "3c4ccb89",
   "metadata": {
    "hidden": true
   },
   "outputs": [],
   "source": [
    "rewards.head()"
   ]
  },
  {
   "cell_type": "code",
   "execution_count": null,
   "id": "753eb084",
   "metadata": {
    "hidden": true
   },
   "outputs": [],
   "source": [
    "rewards.tail()"
   ]
  },
  {
   "cell_type": "code",
   "execution_count": null,
   "id": "307a1a08",
   "metadata": {
    "hidden": true
   },
   "outputs": [],
   "source": [
    "y = rewards.volume.cumsum()\n",
    "x = rewards.timestamps\n",
    "\n",
    "plt.plot(x, y)"
   ]
  },
  {
   "cell_type": "code",
   "execution_count": null,
   "id": "462a4c15",
   "metadata": {
    "hidden": true
   },
   "outputs": [],
   "source": [
    "trials.groupby('reward_volume').sum()"
   ]
  },
  {
   "cell_type": "code",
   "execution_count": null,
   "id": "46d3f7d5",
   "metadata": {
    "hidden": true
   },
   "outputs": [],
   "source": []
  },
  {
   "cell_type": "markdown",
   "id": "7288f063",
   "metadata": {},
   "source": [
    "# more?"
   ]
  },
  {
   "cell_type": "code",
   "execution_count": null,
   "id": "2475626f",
   "metadata": {},
   "outputs": [],
   "source": [
    "def make_mean_curve_of_two(x1, x2, y1_1, y1_2, y2_1, y2_2, y1, y2):\n",
    "    min_a1_x, max_a1_x = min(x1), max(x1)\n",
    "    min_a2_x, max_a2_x = min(x2), max(x2)\n",
    "\n",
    "    new_a1_x = np.linspace(min_a1_x, max_a1_x, 100)\n",
    "    new_a2_x = np.linspace(min_a2_x, max_a2_x, 100)\n",
    "\n",
    "    new_a1_y = np.interp(new_a1_x, x1, y1)\n",
    "    new_a2_y = np.interp(new_a2_x, x2, y2)\n",
    "    # still need to do 2nd half of y\n",
    "    \n",
    "    print(len(new_a1_x), len(new_a2_x), len(new_a1_y), len(new_a2_y))\n",
    "\n",
    "    midx = [np.mean([new_a1_x[i], new_a2_x[i]]) for i in range(100)]\n",
    "    midy = [np.mean([new_a1_y[i], new_a2_y[i]]) for i in range(100)]\n",
    "\n",
    "    plt.plot(x1, y1, c='black')\n",
    "    plt.plot(x2, y2, c='black')\n",
    "    plt.plot(midx, midy, '--', c='black')\n",
    "    plt.show()"
   ]
  },
  {
   "cell_type": "code",
   "execution_count": null,
   "id": "8b7f3c12",
   "metadata": {},
   "outputs": [],
   "source": [
    "make_mean_curve_of_two(x1, x2, y1_1, y1_2, y2_1, y2_2, y1, y2)"
   ]
  },
  {
   "cell_type": "code",
   "execution_count": null,
   "id": "f756da5a",
   "metadata": {},
   "outputs": [],
   "source": []
  },
  {
   "cell_type": "code",
   "execution_count": null,
   "id": "078bbb4a",
   "metadata": {},
   "outputs": [],
   "source": [
    "from itertools import combinations, product\n",
    "from numpy.polynomial.polynomial import polyfit\n",
    "import seaborn as sns\n",
    "\n",
    "def plot_relation_with_seaborn(image, M, stimulus_presentations, running_speed, eye_tracking, brain_structure, sessionID):\n",
    "\n",
    "    M_avg_im, M_avg_im_a, M_avg_im_passive, timings_im, timings_start_end_im = average_population_response_over_same_stimulus_presentations(M, image, stimulus_presentations)\n",
    "\n",
    "    # get the Representational Similarity\n",
    "    C_avg = np.corrcoef(np.transpose(M_avg_im))            # the Correlation Matrix with reduced stimuli\n",
    "    C_avg_a = np.corrcoef(np.transpose(M_avg_im_a))\n",
    "    C_avg_p = np.corrcoef(np.transpose(M_avg_im_passive))\n",
    "\n",
    "    sp = stimulus_presentations[stimulus_presentations.image_name == image]\n",
    "    avg_running_speed, std_running_speed, avg_pupil_area, std_pupil_area = extract_speed_and_pupil_data(sp, timings_start_end_im, running_speed, eye_tracking)\n",
    "\n",
    "    assert len(C_avg) == len(avg_running_speed)\n",
    "\n",
    "    assert len(C_avg) == len(avg_running_speed)\n",
    "    assert len(C_avg_a) == len(avg_running_speed)/2\n",
    "    assert len(C_avg_p) == len(avg_running_speed)/2\n",
    "\n",
    "    n = len(C_avg)\n",
    "    half = int(n/2)\n",
    "\n",
    "    z_t_a, z_t_p = z_score_behaviour(avg_running_speed, avg_pupil_area, half)\n",
    "\n",
    "    x_im_a = []\n",
    "    y_im_a = []\n",
    "    x_im_p = []\n",
    "    y_im_p = []\n",
    "\n",
    "    for pair in combinations(range(half), 2):\n",
    "        i, j = pair\n",
    "\n",
    "        delta_V_a = np.linalg.norm(z_t_a[i] - z_t_a[j])\n",
    "        delta_V_p = np.linalg.norm(z_t_p[i] - z_t_p[j])\n",
    "\n",
    "        # active\n",
    "        x_im_a.append(delta_V_a)\n",
    "        y_im_a.append(C_avg_a[i, j])\n",
    "        # passive\n",
    "        x_im_p.append(delta_V_p)\n",
    "        y_im_p.append(C_avg_p[i, j])\n",
    "        \n",
    "        \n",
    "    df = pd.DataFrame(x_im_a, columns=['behaviour'])\n",
    "    df['RS'] = y_im_a\n",
    "    df['block'] = 'active'\n",
    "    \n",
    "    df2 = pd.DataFrame(x_im_p, columns=['behaviour'])\n",
    "    df2['RS'] = y_im_p\n",
    "    df2['block'] = 'passive'\n",
    "    \n",
    "    comp = pd.concat([df, df2])\n",
    "    comp.reset_index(inplace=True)\n",
    "    print(comp)\n",
    "    \n",
    "    sns.set_context(\"paper\")\n",
    "    # sns.set(\"white\")\n",
    "    sns.jointplot(\"behaviour\", \"RS\", data=comp, kind='reg')\n",
    "    sns.lmplot(x=\"behaviour\", y=\"RS\", hue=\"block\", data=comp);\n",
    "   "
   ]
  },
  {
   "cell_type": "code",
   "execution_count": null,
   "id": "25b03558",
   "metadata": {},
   "outputs": [],
   "source": []
  },
  {
   "cell_type": "code",
   "execution_count": null,
   "id": "896414d8",
   "metadata": {},
   "outputs": [],
   "source": []
  }
 ],
 "metadata": {
  "kernelspec": {
   "display_name": "Python 3 (ipykernel)",
   "language": "python",
   "name": "python3"
  },
  "language_info": {
   "codemirror_mode": {
    "name": "ipython",
    "version": 3
   },
   "file_extension": ".py",
   "mimetype": "text/x-python",
   "name": "python",
   "nbconvert_exporter": "python",
   "pygments_lexer": "ipython3",
   "version": "3.7.13"
  }
 },
 "nbformat": 4,
 "nbformat_minor": 5
}
